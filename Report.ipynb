{
 "cells": [
  {
   "cell_type": "markdown",
   "metadata": {},
   "source": [
    "#                     <font color=red>       BBM409 : Introduction to Machine Learning Lab  Assignment 2</font>"
   ]
  },
  {
   "cell_type": "markdown",
   "metadata": {},
   "source": [
    "<img src=\"logo.png\" width=300 height=200 />"
   ]
  },
  {
   "cell_type": "markdown",
   "metadata": {},
   "source": [
    "## <font color=black><center>Berra Nur SARI - 21727671 <br> Melih SUNMAN - 21827809</center></font>"
   ]
  },
  {
   "cell_type": "markdown",
   "metadata": {},
   "source": [
    "#   <font color=blue>Part 1: Diabetes Risk Prediction\n",
    "</font>\n"
   ]
  },
  {
   "cell_type": "markdown",
   "metadata": {},
   "source": [
    "## Abstract :"
   ]
  },
  {
   "cell_type": "markdown",
   "metadata": {},
   "source": [
    "In the first part of this project, we use ID3 algorithm for creating desicion tree. This tree analyzes a dataset of a group of people to assess whether they are at risk for diabetes. We used 5-Fold Cross Validation for better processing of data and also discretization has been applied to the age data to make the ID3 algorithm work better."
   ]
  },
  {
   "cell_type": "markdown",
   "metadata": {},
   "source": [
    "## Code :"
   ]
  },
  {
   "cell_type": "markdown",
   "metadata": {},
   "source": [
    "#### Required libraries are imported "
   ]
  },
  {
   "cell_type": "code",
   "execution_count": 930,
   "metadata": {
    "id": "ZZpHVWDVGhAT"
   },
   "outputs": [],
   "source": [
    "import numpy as np\n",
    "import pandas as pd\n",
    "from sklearn.metrics import accuracy_score ,precision_score , f1_score , recall_score\n",
    "from sklearn.model_selection import KFold\n",
    "import time"
   ]
  },
  {
   "cell_type": "markdown",
   "metadata": {},
   "source": [
    "#### Necessary variables were created for the analysis of the data"
   ]
  },
  {
   "cell_type": "code",
   "execution_count": 931,
   "metadata": {
    "id": "TAGDQroZ-2Na"
   },
   "outputs": [],
   "source": [
    "#upload file\n",
    "df = pd.read_csv(\"diabetes_data_upload.csv\")\n",
    "\n",
    "#rename the last column name to label\n",
    "df = df.rename(columns={\"class\": \"label\"})"
   ]
  },
  {
   "cell_type": "code",
   "execution_count": 932,
   "metadata": {
    "id": "WFywPCwGGz7m"
   },
   "outputs": [],
   "source": [
    "global COLUMN_HEADERS\n",
    "COLUMN_HEADERS = list(df.columns.values.tolist())\n",
    "\n",
    "global COLUMN_IDS\n",
    "COLUMN_IDS = np.arange(len(COLUMN_HEADERS))"
   ]
  },
  {
   "cell_type": "code",
   "execution_count": 933,
   "metadata": {
    "id": "0dmGFFqvG2BY"
   },
   "outputs": [],
   "source": [
    "#convert from dataframe to numpy\n",
    "df = df.to_numpy()\n",
    "\n",
    "#shuffle\n",
    "np.random.shuffle(df)"
   ]
  },
  {
   "cell_type": "markdown",
   "metadata": {
    "id": "T9J2ESSjG9Sr"
   },
   "source": [
    "#### check_purity(data) : \n",
    "Function that checks if the entire dataset is classified. If classification is finished, terminates branching continues if not. It returns False because **df** hasn't classified yet\n"
   ]
  },
  {
   "cell_type": "code",
   "execution_count": 934,
   "metadata": {
    "id": "yXUhnvabG63l"
   },
   "outputs": [],
   "source": [
    "def check_purity(data):\n",
    "    label_column = data[:,-1]\n",
    "    unique_classes = np.unique(label_column)\n",
    "    if len(unique_classes ) == 1:\n",
    "        return True;\n",
    "    return False"
   ]
  },
  {
   "cell_type": "code",
   "execution_count": 935,
   "metadata": {
    "colab": {
     "base_uri": "https://localhost:8080/"
    },
    "id": "OmQpxP68HSSj",
    "outputId": "e242bf59-5dc7-4f65-bd9a-33745fe90d8c",
    "scrolled": true
   },
   "outputs": [
    {
     "data": {
      "text/plain": [
       "False"
      ]
     },
     "execution_count": 935,
     "metadata": {},
     "output_type": "execute_result"
    }
   ],
   "source": [
    "check_purity(df)"
   ]
  },
  {
   "cell_type": "markdown",
   "metadata": {
    "id": "T9J2ESSjG9Sr"
   },
   "source": [
    "#### classify_data(data) : \n",
    "Function that determines which label is more in the data set. **df** returns Positive in this function because there are more Positives in it"
   ]
  },
  {
   "cell_type": "code",
   "execution_count": 936,
   "metadata": {
    "colab": {
     "base_uri": "https://localhost:8080/",
     "height": 36
    },
    "id": "fUmIqCghHXv1",
    "outputId": "9400f102-4344-4e30-b6aa-ef0c871e09ee"
   },
   "outputs": [],
   "source": [
    "def classify_data(data):\n",
    "    label_column = data[:,-1]\n",
    "    #unique labellar arasından en çok olanı döndürüyoruz, yani count ı max olanı\n",
    "    unique_classes, counts_unique_classes = np.unique(label_column, return_counts=True)\n",
    "    max_index = counts_unique_classes.argmax()\n",
    "    classification = unique_classes[max_index]\n",
    "    return classification"
   ]
  },
  {
   "cell_type": "code",
   "execution_count": 937,
   "metadata": {},
   "outputs": [
    {
     "data": {
      "text/plain": [
       "'Positive'"
      ]
     },
     "execution_count": 937,
     "metadata": {},
     "output_type": "execute_result"
    }
   ],
   "source": [
    "classify_data(df)"
   ]
  },
  {
   "cell_type": "markdown",
   "metadata": {},
   "source": [
    "#### age_splits(data, column_index, split_number):\n",
    "\n",
    "Function that performs the discretization we need for the age variable. It takes dataset, column number and discretization number as parameters"
   ]
  },
  {
   "cell_type": "code",
   "execution_count": 938,
   "metadata": {
    "id": "y4Gw5cSwHvQG"
   },
   "outputs": [],
   "source": [
    "def age_splits(data, column_index, split_number):\n",
    "    gap = (data[:, column_index]).max() - (data[:, column_index]).min()\n",
    "    average = gap/split_number\n",
    "    ranges = data[:, column_index].min()\n",
    "    age_ranges = []\n",
    "    while ranges <= data[:, column_index].max():\n",
    "        age_ranges += [int(ranges)]\n",
    "        ranges += average\n",
    "    #print(age_ranges)\n",
    "    for j in range(len(data[:, column_index])):\n",
    "        for i in range(len(age_ranges) - 1):\n",
    "            if data[:, column_index][j] <= age_ranges[i + 1] and data[:, column_index][j] >= age_ranges[i]:\n",
    "                #print(data[:, column_name][j], \"is belong to Range {}\".format(i+1))\n",
    "                data[:, column_index][j] = i + 1\n",
    "    return data\n",
    "df = age_splits(df,0,5)"
   ]
  },
  {
   "cell_type": "code",
   "execution_count": 939,
   "metadata": {
    "colab": {
     "base_uri": "https://localhost:8080/"
    },
    "id": "WfEfpx5LH2kz",
    "outputId": "dfbdfe27-2719-4f5d-b820-96ce9621ee77"
   },
   "outputs": [
    {
     "data": {
      "text/plain": [
       "array([[3, 'Male', 'No', ..., 'Yes', 'Yes', 'Positive'],\n",
       "       [1, 'Male', 'No', ..., 'No', 'No', 'Negative'],\n",
       "       [4, 'Male', 'No', ..., 'Yes', 'No', 'Negative'],\n",
       "       ...,\n",
       "       [2, 'Female', 'No', ..., 'No', 'No', 'Positive'],\n",
       "       [4, 'Male', 'Yes', ..., 'Yes', 'No', 'Positive'],\n",
       "       [2, 'Female', 'No', ..., 'No', 'No', 'Negative']], dtype=object)"
      ]
     },
     "execution_count": 939,
     "metadata": {},
     "output_type": "execute_result"
    }
   ],
   "source": [
    "df"
   ]
  },
  {
   "cell_type": "markdown",
   "metadata": {
    "id": "tGiQd4TPIGmc"
   },
   "source": [
    "#### get_potential_splits(data, attribute_ids):\n",
    "function that returns the values of the rows, thus determining which branches the decision tree will have. It takes dataset and column Id that values needed to know as parameters."
   ]
  },
  {
   "cell_type": "code",
   "execution_count": 940,
   "metadata": {
    "id": "AdZfOBSuH4WS"
   },
   "outputs": [],
   "source": [
    "def get_potential_splits(data, attribute_ids):\n",
    "    potential_splits = {}\n",
    "    for column_index in attribute_ids:  #excluding the last column which is the label\n",
    "        values = data[:, column_index]\n",
    "        unique_values = np.unique(values)\n",
    "        potential_splits[COLUMN_HEADERS[column_index]] = unique_values\n",
    "    return potential_splits"
   ]
  },
  {
   "cell_type": "code",
   "execution_count": 941,
   "metadata": {
    "colab": {
     "base_uri": "https://localhost:8080/"
    },
    "id": "gbYx4R44H-bV",
    "outputId": "bfa2e3d9-72d4-4702-8665-310f07258a40",
    "scrolled": true
   },
   "outputs": [
    {
     "data": {
      "text/plain": [
       "{'Age': array([1, 2, 3, 4, 5], dtype=object),\n",
       " 'Gender': array(['Female', 'Male'], dtype=object),\n",
       " 'Polyuria': array(['No', 'Yes'], dtype=object),\n",
       " 'Polydipsia': array(['No', 'Yes'], dtype=object),\n",
       " 'sudden weight loss': array(['No', 'Yes'], dtype=object),\n",
       " 'weakness': array(['No', 'Yes'], dtype=object),\n",
       " 'Polyphagia': array(['No', 'Yes'], dtype=object),\n",
       " 'Genital thrush': array(['No', 'Yes'], dtype=object),\n",
       " 'visual blurring': array(['No', 'Yes'], dtype=object),\n",
       " 'Itching': array(['No', 'Yes'], dtype=object),\n",
       " 'Irritability': array(['No', 'Yes'], dtype=object),\n",
       " 'delayed healing': array(['No', 'Yes'], dtype=object),\n",
       " 'partial paresis': array(['No', 'Yes'], dtype=object),\n",
       " 'muscle stiffness': array(['No', 'Yes'], dtype=object),\n",
       " 'Alopecia': array(['No', 'Yes'], dtype=object),\n",
       " 'Obesity': array(['No', 'Yes'], dtype=object),\n",
       " 'label': array(['Negative', 'Positive'], dtype=object)}"
      ]
     },
     "execution_count": 941,
     "metadata": {},
     "output_type": "execute_result"
    }
   ],
   "source": [
    "get_potential_splits(df, COLUMN_IDS)"
   ]
  },
  {
   "cell_type": "markdown",
   "metadata": {},
   "source": [
    "#### calculate_entropy(data):\n",
    "Function that calculates the ENTROPHY required to calculate the GAIN value. In the calculation, the ENTROPHY value of the data set is high. This shows us that there is a polarized distribution"
   ]
  },
  {
   "cell_type": "code",
   "execution_count": 942,
   "metadata": {
    "id": "ekpKkJ1PIPoJ"
   },
   "outputs": [],
   "source": [
    "def calculate_entropy(data):\n",
    "    label_column = data[:, -1]\n",
    "    _, counts = np.unique(label_column, return_counts=True)\n",
    "    probabilities = counts / counts.sum()  \n",
    "    entropy = sum(probabilities * -np.log2(probabilities))\n",
    "    return entropy"
   ]
  },
  {
   "cell_type": "code",
   "execution_count": 943,
   "metadata": {
    "colab": {
     "base_uri": "https://localhost:8080/"
    },
    "id": "Y_p-5cLvIRnR",
    "outputId": "da071332-9b0d-4289-b4d7-ff599ca3fc62"
   },
   "outputs": [
    {
     "data": {
      "text/plain": [
       "0.9612366047228759"
      ]
     },
     "execution_count": 943,
     "metadata": {},
     "output_type": "execute_result"
    }
   ],
   "source": [
    "calculate_entropy(df)"
   ]
  },
  {
   "cell_type": "markdown",
   "metadata": {
    "id": "_MufQh-5IbiU"
   },
   "source": [
    "#### calculate_gain(data, index):\n",
    "function that returns the GAIN value, which allows us to decide on the next branch of the decision tree. It takes dataset and column index as parameter. In the calculation, we see the GAIN value of the **age** attribute."
   ]
  },
  {
   "cell_type": "code",
   "execution_count": 944,
   "metadata": {
    "id": "nITYvCYzIWP1"
   },
   "outputs": [],
   "source": [
    "#calculate entropy for determined column\n",
    "def calculate_gain(data, index):\n",
    "    values, counts = np.unique(data[:,index], return_counts=True)\n",
    "    total = sum(counts)\n",
    "    full_entropy = calculate_entropy(data)\n",
    "    for i in range(len(values)):\n",
    "        value_data = data[data[:,index] == values[i]]\n",
    "        value_entropy = calculate_entropy(value_data)\n",
    "        full_entropy -= (counts[i]/total) * value_entropy\n",
    "    return full_entropy"
   ]
  },
  {
   "cell_type": "code",
   "execution_count": 945,
   "metadata": {
    "colab": {
     "base_uri": "https://localhost:8080/"
    },
    "id": "n7VCrsqAIluU",
    "outputId": "e2570842-1793-4299-fd2b-8781628c19f2"
   },
   "outputs": [
    {
     "data": {
      "text/plain": [
       "0.03049821131260183"
      ]
     },
     "execution_count": 945,
     "metadata": {},
     "output_type": "execute_result"
    }
   ],
   "source": [
    "calculate_gain(df,0)"
   ]
  },
  {
   "cell_type": "markdown",
   "metadata": {
    "id": "PFVe4Fk_I5yh"
   },
   "source": [
    "#### def calculate_best_gain(data, attribute_ids):\n",
    "Function that returns the best GAIN value in a given dataset and attribute that has this value. It takes dataset and ID list of attributes as parameter. In this example we see the GAIN value = 0.3622... and index 2 = Polyuria"
   ]
  },
  {
   "cell_type": "code",
   "execution_count": 946,
   "metadata": {
    "id": "QVKs6lxiIw4K"
   },
   "outputs": [],
   "source": [
    "def calculate_best_gain(data, attribute_ids):\n",
    "    gains = {}\n",
    "    for id in attribute_ids:\n",
    "        gain = calculate_gain(data, id)\n",
    "        gains[id] = gain\n",
    "\n",
    "    best_gain_key = max(gains, key=gains.get)\n",
    "    return gains[best_gain_key], best_gain_key"
   ]
  },
  {
   "cell_type": "code",
   "execution_count": 947,
   "metadata": {
    "colab": {
     "base_uri": "https://localhost:8080/"
    },
    "id": "xYeU3AHUJBfg",
    "outputId": "eff856a6-bfd2-4a22-c9bb-09e72016c6b2"
   },
   "outputs": [
    {
     "data": {
      "text/plain": [
       "(0.36225097556392627, 2)"
      ]
     },
     "execution_count": 947,
     "metadata": {},
     "output_type": "execute_result"
    }
   ],
   "source": [
    "calculate_best_gain(df, COLUMN_IDS[:-1])"
   ]
  },
  {
   "cell_type": "markdown",
   "metadata": {
    "id": "VVDw-ytlJbHv"
   },
   "source": [
    "### class Node:\n",
    "The class in which we create the decision tree <br>\n",
    "**children** : list of sub branch <br>\n",
    "**vals** : the value list that attribute has (for age = 1,2,3,4,5 for polyuria = yes, no ... ) <br>\n",
    "**rule** : rule of desicion tree <br>\n",
    "**max_gain** : GAIN of that branch <br>\n",
    "**attribute_name** : Name of attribute (Age,Gender,Polyuria,Polydipsia,sudden weight loss\n",
    "...) <br>\n",
    "**attribute_id** : Index of the attribute (for age = 0 , gender = 1, Polyuria = 2 ...)"
   ]
  },
  {
   "cell_type": "code",
   "execution_count": 948,
   "metadata": {
    "id": "rmmkBDe8JFdR"
   },
   "outputs": [],
   "source": [
    "class Node:\n",
    "    def __init__(self, attribute_id, attribute_name, vals, rule):\n",
    "        self.children = []\n",
    "        self.vals = vals\n",
    "        self.rule = rule\n",
    "        self.max_gain = None\n",
    "        self.attribute_name = attribute_name\n",
    "        self.attribute_id = attribute_id"
   ]
  },
  {
   "cell_type": "code",
   "execution_count": 949,
   "metadata": {
    "id": "ZVv0ZVeIKO0j"
   },
   "outputs": [],
   "source": [
    "global POTENTIAL_SPLITS\n",
    "POTENTIAL_SPLITS = get_potential_splits(df,COLUMN_IDS)"
   ]
  },
  {
   "cell_type": "code",
   "execution_count": 950,
   "metadata": {
    "colab": {
     "base_uri": "https://localhost:8080/"
    },
    "id": "X78textwKT7T",
    "outputId": "514ebee1-7035-40ba-85a0-276cb709b33b",
    "scrolled": false
   },
   "outputs": [
    {
     "data": {
      "text/plain": [
       "{'Age': array([1, 2, 3, 4, 5], dtype=object),\n",
       " 'Gender': array(['Female', 'Male'], dtype=object),\n",
       " 'Polyuria': array(['No', 'Yes'], dtype=object),\n",
       " 'Polydipsia': array(['No', 'Yes'], dtype=object),\n",
       " 'sudden weight loss': array(['No', 'Yes'], dtype=object),\n",
       " 'weakness': array(['No', 'Yes'], dtype=object),\n",
       " 'Polyphagia': array(['No', 'Yes'], dtype=object),\n",
       " 'Genital thrush': array(['No', 'Yes'], dtype=object),\n",
       " 'visual blurring': array(['No', 'Yes'], dtype=object),\n",
       " 'Itching': array(['No', 'Yes'], dtype=object),\n",
       " 'Irritability': array(['No', 'Yes'], dtype=object),\n",
       " 'delayed healing': array(['No', 'Yes'], dtype=object),\n",
       " 'partial paresis': array(['No', 'Yes'], dtype=object),\n",
       " 'muscle stiffness': array(['No', 'Yes'], dtype=object),\n",
       " 'Alopecia': array(['No', 'Yes'], dtype=object),\n",
       " 'Obesity': array(['No', 'Yes'], dtype=object),\n",
       " 'label': array(['Negative', 'Positive'], dtype=object)}"
      ]
     },
     "execution_count": 950,
     "metadata": {},
     "output_type": "execute_result"
    }
   ],
   "source": [
    "POTENTIAL_SPLITS"
   ]
  },
  {
   "cell_type": "markdown",
   "metadata": {},
   "source": [
    "## Desicion Tree Algorithm (ID3)\n",
    "A ID3 decision tree is supervised machine learning algorithm usually used for classification problems. Invented by Ross Quinlan. Decision tree is flow chart like structure used for decision making. Data-set is split in number of iteration in order to create tree. This tree can be viewed as IF-ELSE conditions and we call this Tree Model in Machine Learning. <br>\n",
    "\n",
    "<img src=\"expTree.png\" width=450 height=300 />\n"
   ]
  },
  {
   "cell_type": "code",
   "execution_count": 951,
   "metadata": {
    "id": "hwr2QcBAKVdg"
   },
   "outputs": [],
   "source": [
    "def decision_tree_algorithm(data, attribute_ids, rule):\n",
    "    \"\"\"if there is no need to parse the data anymore, the function returns leaf Node(Positive or Negative)\"\"\"\n",
    "    if (check_purity(data)):\n",
    "        classification = classify_data(data)\n",
    "        new_rule = str(rule) + classification\n",
    "        print(new_rule)\n",
    "        return Node(-1, COLUMN_HEADERS[-1], classification , new_rule) #leaf node\n",
    "        \n",
    "\n",
    "        \n",
    "    \"\"\"\n",
    "    The GAIN value of all attributes in the attribute_ids list is calculated and the calculated ones are \n",
    "    removed from the list. When the list is completely empty, the variable with the highest GAIN value is\n",
    "    declared as the new LEAF.\n",
    "    \"\"\"\n",
    "    if (len(attribute_ids[:-1]) == 0):\n",
    "        targets, counts = np.unique(data[:,-1], return_counts=True)\n",
    "        index = np.argmax(counts)\n",
    "        new_rule = str(rule) + targets[index]\n",
    "        print(new_rule)\n",
    "        return Node(-1, COLUMN_HEADERS[-1], targets[index], new_rule) #leaf node\n",
    "\n",
    "    \"\"\"Determining the attribute with the highest GAIN value (value and index)\"\"\"\n",
    "    best_attr_val, best_attr_index = calculate_best_gain(data, attribute_ids[:-1])\n",
    "\n",
    "    \"\"\"Determining the possible values of best attribute (for age 1,2,3,4,5, for Itching yes,no)\"\"\"\n",
    "    potential_values = POTENTIAL_SPLITS[COLUMN_HEADERS[best_attr_index]]\n",
    "\n",
    "    \"\"\"Creating tree node\"\"\"\n",
    "    child_node = Node(best_attr_index, COLUMN_HEADERS[best_attr_index], potential_values,rule)\n",
    "    child_node.max_gain = best_attr_val\n",
    "    child_node.rule += COLUMN_HEADERS[best_attr_index]  + \" -> \"\n",
    "    for val in potential_values: #yes and no or 1 2 3 4 5\n",
    "        val_data = data[data[:,best_attr_index] == val] #a new matrix is created from those whose best_attr_index is yes\n",
    "\n",
    "        if val_data.shape[0] == 0:\n",
    "            targets, counts = np.unique(data[:, -1], return_counts=True)\n",
    "            index = np.argmax(counts)\n",
    "            new_rule = str(child_node.rule) + str(val) + \" -> \" + targets[index]\n",
    "            print(new_rule)\n",
    "            child_node.children.append(Node(-1, COLUMN_HEADERS[-1], targets[index],new_rule)) #leaf node\n",
    "        else:\n",
    "            attribute_ids_cpy = attribute_ids[attribute_ids != best_attr_index]\n",
    "            new_rule = str(child_node.rule) + str(val) + \" -> \"\n",
    "            child_node.children.append(decision_tree_algorithm(val_data, attribute_ids_cpy ,new_rule)) #recursive\n",
    "\n",
    "    return child_node  #root node\n"
   ]
  },
  {
   "cell_type": "markdown",
   "metadata": {},
   "source": [
    "#### predict_row_recr(node, row) and predict(root, data):\n",
    "Functions that make predictions by evaluating the given test class in the current decision tree. Working synchronously, they classify each variable individually. First, the *predict(root, data)* function takes as parameters the current decision tree and the dataset to be tested. It loops through the dataset and sends a given row to the *predict_row_recr(node, row)* function. This function evaluates the row in with the decision tree and returns to the *predict(root, data)* function. The predictions are aggregated in the *predicts[ ]* list and the list is returned when all rows are finished\n"
   ]
  },
  {
   "cell_type": "code",
   "execution_count": 952,
   "metadata": {
    "id": "bfq4-3zKKs7O"
   },
   "outputs": [],
   "source": [
    "def predict_row_recr(node, row):\n",
    "    if node.attribute_name == 'label':\n",
    "        return node.vals\n",
    "    else:\n",
    "        #print(node.vals , \" \", row[node.attribute_id]) #test row unun x attribute-undeki değer ne, mesela yes, o zaman yes e karşılık gelen attr yeni nodu un olacak.\n",
    "        index = np.nonzero(node.vals == row[node.attribute_id])[0][0]\n",
    "        next_node = node.children[index]\n",
    "        return predict_row_recr(next_node, row)"
   ]
  },
  {
   "cell_type": "code",
   "execution_count": 953,
   "metadata": {
    "id": "ZEuwL3WAKwWs"
   },
   "outputs": [],
   "source": [
    "def predict(root, data):\n",
    "    predicts = []\n",
    "    for row in data:\n",
    "        x = predict_row_recr(root, row)\n",
    "        predicts.append(x)\n",
    "    return predicts"
   ]
  },
  {
   "cell_type": "markdown",
   "metadata": {},
   "source": [
    "#### 5-Fold Cross Validation \n",
    "At the last part we used 5-Fold Cross Validation getting more valid scores. Then we print the **ACCURACY, PRECISION, RECALL** and **F1 SCORE**"
   ]
  },
  {
   "cell_type": "code",
   "execution_count": 954,
   "metadata": {
    "colab": {
     "base_uri": "https://localhost:8080/"
    },
    "id": "0apZwdH2KyHJ",
    "outputId": "9cc6a819-259f-4657-85f9-065a989a2d38",
    "scrolled": true
   },
   "outputs": [
    {
     "name": "stdout",
     "output_type": "stream",
     "text": [
      "Polydipsia -> No -> Polyuria -> No -> Gender -> Female -> Alopecia -> No -> Age -> 1 -> Polyphagia -> No -> Positive\n",
      "Polydipsia -> No -> Polyuria -> No -> Gender -> Female -> Alopecia -> No -> Age -> 1 -> Polyphagia -> Yes -> Negative\n",
      "Polydipsia -> No -> Polyuria -> No -> Gender -> Female -> Alopecia -> No -> Age -> 2 -> visual blurring -> No -> Irritability -> No -> weakness -> No -> sudden weight loss -> No -> Obesity -> No -> Polyphagia -> No -> Genital thrush -> No -> Itching -> No -> delayed healing -> No -> partial paresis -> No -> muscle stiffness -> No -> Positive\n",
      "Polydipsia -> No -> Polyuria -> No -> Gender -> Female -> Alopecia -> No -> Age -> 2 -> visual blurring -> No -> Irritability -> No -> weakness -> No -> sudden weight loss -> No -> Obesity -> No -> Polyphagia -> No -> Genital thrush -> No -> Itching -> No -> delayed healing -> No -> partial paresis -> No -> muscle stiffness -> Yes -> Positive\n",
      "Polydipsia -> No -> Polyuria -> No -> Gender -> Female -> Alopecia -> No -> Age -> 2 -> visual blurring -> No -> Irritability -> No -> weakness -> No -> sudden weight loss -> No -> Obesity -> No -> Polyphagia -> No -> Genital thrush -> No -> Itching -> No -> delayed healing -> No -> partial paresis -> Yes -> Positive\n",
      "Polydipsia -> No -> Polyuria -> No -> Gender -> Female -> Alopecia -> No -> Age -> 2 -> visual blurring -> No -> Irritability -> No -> weakness -> No -> sudden weight loss -> No -> Obesity -> No -> Polyphagia -> No -> Genital thrush -> No -> Itching -> No -> delayed healing -> Yes -> Positive\n",
      "Polydipsia -> No -> Polyuria -> No -> Gender -> Female -> Alopecia -> No -> Age -> 2 -> visual blurring -> No -> Irritability -> No -> weakness -> No -> sudden weight loss -> No -> Obesity -> No -> Polyphagia -> No -> Genital thrush -> No -> Itching -> Yes -> Positive\n",
      "Polydipsia -> No -> Polyuria -> No -> Gender -> Female -> Alopecia -> No -> Age -> 2 -> visual blurring -> No -> Irritability -> No -> weakness -> No -> sudden weight loss -> No -> Obesity -> No -> Polyphagia -> No -> Genital thrush -> Yes -> Positive\n",
      "Polydipsia -> No -> Polyuria -> No -> Gender -> Female -> Alopecia -> No -> Age -> 2 -> visual blurring -> No -> Irritability -> No -> weakness -> No -> sudden weight loss -> No -> Obesity -> No -> Polyphagia -> Yes -> Positive\n",
      "Polydipsia -> No -> Polyuria -> No -> Gender -> Female -> Alopecia -> No -> Age -> 2 -> visual blurring -> No -> Irritability -> No -> weakness -> No -> sudden weight loss -> No -> Obesity -> Yes -> Positive\n",
      "Polydipsia -> No -> Polyuria -> No -> Gender -> Female -> Alopecia -> No -> Age -> 2 -> visual blurring -> No -> Irritability -> No -> weakness -> No -> sudden weight loss -> Yes -> Negative\n",
      "Polydipsia -> No -> Polyuria -> No -> Gender -> Female -> Alopecia -> No -> Age -> 2 -> visual blurring -> No -> Irritability -> No -> weakness -> Yes -> Positive\n",
      "Polydipsia -> No -> Polyuria -> No -> Gender -> Female -> Alopecia -> No -> Age -> 2 -> visual blurring -> No -> Irritability -> Yes -> Negative\n",
      "Polydipsia -> No -> Polyuria -> No -> Gender -> Female -> Alopecia -> No -> Age -> 2 -> visual blurring -> Yes -> Positive\n",
      "Polydipsia -> No -> Polyuria -> No -> Gender -> Female -> Alopecia -> No -> Age -> 3 -> Positive\n",
      "Polydipsia -> No -> Polyuria -> No -> Gender -> Female -> Alopecia -> No -> Age -> 4 -> Positive\n",
      "Polydipsia -> No -> Polyuria -> No -> Gender -> Female -> Alopecia -> No -> Age -> 5 -> Positive\n",
      "Polydipsia -> No -> Polyuria -> No -> Gender -> Female -> Alopecia -> Yes -> Age -> 1 -> Positive\n",
      "Polydipsia -> No -> Polyuria -> No -> Gender -> Female -> Alopecia -> Yes -> Age -> 2 -> Negative\n",
      "Polydipsia -> No -> Polyuria -> No -> Gender -> Female -> Alopecia -> Yes -> Age -> 3 -> Negative\n",
      "Polydipsia -> No -> Polyuria -> No -> Gender -> Female -> Alopecia -> Yes -> Age -> 4 -> Negative\n",
      "Polydipsia -> No -> Polyuria -> No -> Gender -> Female -> Alopecia -> Yes -> Age -> 5 -> Negative\n",
      "Polydipsia -> No -> Polyuria -> No -> Gender -> Male -> Age -> 1 -> Negative\n",
      "Polydipsia -> No -> Polyuria -> No -> Gender -> Male -> Age -> 2 -> Irritability -> No -> delayed healing -> No -> Negative\n",
      "Polydipsia -> No -> Polyuria -> No -> Gender -> Male -> Age -> 2 -> Irritability -> No -> delayed healing -> Yes -> Genital thrush -> No -> Positive\n",
      "Polydipsia -> No -> Polyuria -> No -> Gender -> Male -> Age -> 2 -> Irritability -> No -> delayed healing -> Yes -> Genital thrush -> Yes -> Polyphagia -> No -> Negative\n",
      "Polydipsia -> No -> Polyuria -> No -> Gender -> Male -> Age -> 2 -> Irritability -> No -> delayed healing -> Yes -> Genital thrush -> Yes -> Polyphagia -> Yes -> Positive\n",
      "Polydipsia -> No -> Polyuria -> No -> Gender -> Male -> Age -> 2 -> Irritability -> Yes -> Polyphagia -> No -> Genital thrush -> No -> Negative\n",
      "Polydipsia -> No -> Polyuria -> No -> Gender -> Male -> Age -> 2 -> Irritability -> Yes -> Polyphagia -> No -> Genital thrush -> Yes -> Positive\n",
      "Polydipsia -> No -> Polyuria -> No -> Gender -> Male -> Age -> 2 -> Irritability -> Yes -> Polyphagia -> Yes -> Positive\n",
      "Polydipsia -> No -> Polyuria -> No -> Gender -> Male -> Age -> 3 -> Itching -> No -> Alopecia -> No -> Negative\n",
      "Polydipsia -> No -> Polyuria -> No -> Gender -> Male -> Age -> 3 -> Itching -> No -> Alopecia -> Yes -> sudden weight loss -> No -> Positive\n",
      "Polydipsia -> No -> Polyuria -> No -> Gender -> Male -> Age -> 3 -> Itching -> No -> Alopecia -> Yes -> sudden weight loss -> Yes -> Negative\n",
      "Polydipsia -> No -> Polyuria -> No -> Gender -> Male -> Age -> 3 -> Itching -> Yes -> Negative\n",
      "Polydipsia -> No -> Polyuria -> No -> Gender -> Male -> Age -> 4 -> Negative\n",
      "Polydipsia -> No -> Polyuria -> No -> Gender -> Male -> Age -> 5 -> Negative\n",
      "Polydipsia -> No -> Polyuria -> Yes -> delayed healing -> No -> Positive\n",
      "Polydipsia -> No -> Polyuria -> Yes -> delayed healing -> Yes -> Alopecia -> No -> Positive\n",
      "Polydipsia -> No -> Polyuria -> Yes -> delayed healing -> Yes -> Alopecia -> Yes -> Obesity -> No -> weakness -> No -> Age -> 1 -> Negative\n",
      "Polydipsia -> No -> Polyuria -> Yes -> delayed healing -> Yes -> Alopecia -> Yes -> Obesity -> No -> weakness -> No -> Age -> 2 -> Positive\n",
      "Polydipsia -> No -> Polyuria -> Yes -> delayed healing -> Yes -> Alopecia -> Yes -> Obesity -> No -> weakness -> No -> Age -> 3 -> Negative\n",
      "Polydipsia -> No -> Polyuria -> Yes -> delayed healing -> Yes -> Alopecia -> Yes -> Obesity -> No -> weakness -> No -> Age -> 4 -> Negative\n",
      "Polydipsia -> No -> Polyuria -> Yes -> delayed healing -> Yes -> Alopecia -> Yes -> Obesity -> No -> weakness -> No -> Age -> 5 -> Negative\n",
      "Polydipsia -> No -> Polyuria -> Yes -> delayed healing -> Yes -> Alopecia -> Yes -> Obesity -> No -> weakness -> Yes -> Positive\n",
      "Polydipsia -> No -> Polyuria -> Yes -> delayed healing -> Yes -> Alopecia -> Yes -> Obesity -> Yes -> Negative\n",
      "Polydipsia -> Yes -> Polyuria -> No -> Irritability -> No -> Itching -> No -> Positive\n",
      "Polydipsia -> Yes -> Polyuria -> No -> Irritability -> No -> Itching -> Yes -> Gender -> Female -> Positive\n",
      "Polydipsia -> Yes -> Polyuria -> No -> Irritability -> No -> Itching -> Yes -> Gender -> Male -> Alopecia -> No -> Negative\n",
      "Polydipsia -> Yes -> Polyuria -> No -> Irritability -> No -> Itching -> Yes -> Gender -> Male -> Alopecia -> Yes -> Obesity -> No -> Negative\n",
      "Polydipsia -> Yes -> Polyuria -> No -> Irritability -> No -> Itching -> Yes -> Gender -> Male -> Alopecia -> Yes -> Obesity -> Yes -> Positive\n",
      "Polydipsia -> Yes -> Polyuria -> No -> Irritability -> Yes -> Positive\n",
      "Polydipsia -> Yes -> Polyuria -> Yes -> Positive\n",
      "ACCURACY FOR  1 0.9711538461538461\n",
      "PRECISION FOR  1 1.0\n",
      "RECALL FOR  1 0.9516129032258065\n",
      "F1 SCORE FOR  1 0.9752066115702479\n",
      "Computation time: 0.13175463676452637\n",
      "Polydipsia -> No -> Gender -> Female -> Polyuria -> No -> Alopecia -> No -> visual blurring -> No -> Age -> 1 -> Negative\n",
      "Polydipsia -> No -> Gender -> Female -> Polyuria -> No -> Alopecia -> No -> visual blurring -> No -> Age -> 2 -> Irritability -> No -> weakness -> No -> sudden weight loss -> No -> Obesity -> No -> Polyphagia -> No -> Genital thrush -> No -> Itching -> No -> delayed healing -> No -> partial paresis -> No -> muscle stiffness -> No -> Positive\n",
      "Polydipsia -> No -> Gender -> Female -> Polyuria -> No -> Alopecia -> No -> visual blurring -> No -> Age -> 2 -> Irritability -> No -> weakness -> No -> sudden weight loss -> No -> Obesity -> No -> Polyphagia -> No -> Genital thrush -> No -> Itching -> No -> delayed healing -> No -> partial paresis -> No -> muscle stiffness -> Yes -> Positive\n",
      "Polydipsia -> No -> Gender -> Female -> Polyuria -> No -> Alopecia -> No -> visual blurring -> No -> Age -> 2 -> Irritability -> No -> weakness -> No -> sudden weight loss -> No -> Obesity -> No -> Polyphagia -> No -> Genital thrush -> No -> Itching -> No -> delayed healing -> No -> partial paresis -> Yes -> Positive\n",
      "Polydipsia -> No -> Gender -> Female -> Polyuria -> No -> Alopecia -> No -> visual blurring -> No -> Age -> 2 -> Irritability -> No -> weakness -> No -> sudden weight loss -> No -> Obesity -> No -> Polyphagia -> No -> Genital thrush -> No -> Itching -> No -> delayed healing -> Yes -> Positive\n",
      "Polydipsia -> No -> Gender -> Female -> Polyuria -> No -> Alopecia -> No -> visual blurring -> No -> Age -> 2 -> Irritability -> No -> weakness -> No -> sudden weight loss -> No -> Obesity -> No -> Polyphagia -> No -> Genital thrush -> No -> Itching -> Yes -> Positive\n",
      "Polydipsia -> No -> Gender -> Female -> Polyuria -> No -> Alopecia -> No -> visual blurring -> No -> Age -> 2 -> Irritability -> No -> weakness -> No -> sudden weight loss -> No -> Obesity -> No -> Polyphagia -> No -> Genital thrush -> Yes -> Positive\n",
      "Polydipsia -> No -> Gender -> Female -> Polyuria -> No -> Alopecia -> No -> visual blurring -> No -> Age -> 2 -> Irritability -> No -> weakness -> No -> sudden weight loss -> No -> Obesity -> No -> Polyphagia -> Yes -> Positive\n",
      "Polydipsia -> No -> Gender -> Female -> Polyuria -> No -> Alopecia -> No -> visual blurring -> No -> Age -> 2 -> Irritability -> No -> weakness -> No -> sudden weight loss -> No -> Obesity -> Yes -> Positive\n",
      "Polydipsia -> No -> Gender -> Female -> Polyuria -> No -> Alopecia -> No -> visual blurring -> No -> Age -> 2 -> Irritability -> No -> weakness -> No -> sudden weight loss -> Yes -> Negative\n",
      "Polydipsia -> No -> Gender -> Female -> Polyuria -> No -> Alopecia -> No -> visual blurring -> No -> Age -> 2 -> Irritability -> No -> weakness -> Yes -> Positive\n",
      "Polydipsia -> No -> Gender -> Female -> Polyuria -> No -> Alopecia -> No -> visual blurring -> No -> Age -> 2 -> Irritability -> Yes -> Negative\n",
      "Polydipsia -> No -> Gender -> Female -> Polyuria -> No -> Alopecia -> No -> visual blurring -> No -> Age -> 3 -> Positive\n",
      "Polydipsia -> No -> Gender -> Female -> Polyuria -> No -> Alopecia -> No -> visual blurring -> No -> Age -> 4 -> Positive\n",
      "Polydipsia -> No -> Gender -> Female -> Polyuria -> No -> Alopecia -> No -> visual blurring -> No -> Age -> 5 -> Positive\n",
      "Polydipsia -> No -> Gender -> Female -> Polyuria -> No -> Alopecia -> No -> visual blurring -> Yes -> Positive\n",
      "Polydipsia -> No -> Gender -> Female -> Polyuria -> No -> Alopecia -> Yes -> Age -> 1 -> Positive\n",
      "Polydipsia -> No -> Gender -> Female -> Polyuria -> No -> Alopecia -> Yes -> Age -> 2 -> Negative\n",
      "Polydipsia -> No -> Gender -> Female -> Polyuria -> No -> Alopecia -> Yes -> Age -> 3 -> Negative\n",
      "Polydipsia -> No -> Gender -> Female -> Polyuria -> No -> Alopecia -> Yes -> Age -> 4 -> Negative\n",
      "Polydipsia -> No -> Gender -> Female -> Polyuria -> No -> Alopecia -> Yes -> Age -> 5 -> Negative\n",
      "Polydipsia -> No -> Gender -> Female -> Polyuria -> Yes -> Positive\n"
     ]
    },
    {
     "name": "stdout",
     "output_type": "stream",
     "text": [
      "Polydipsia -> No -> Gender -> Male -> Polyuria -> No -> Irritability -> No -> weakness -> No -> partial paresis -> No -> Negative\n",
      "Polydipsia -> No -> Gender -> Male -> Polyuria -> No -> Irritability -> No -> weakness -> No -> partial paresis -> Yes -> Positive\n",
      "Polydipsia -> No -> Gender -> Male -> Polyuria -> No -> Irritability -> No -> weakness -> Yes -> Age -> 1 -> Negative\n",
      "Polydipsia -> No -> Gender -> Male -> Polyuria -> No -> Irritability -> No -> weakness -> Yes -> Age -> 2 -> Genital thrush -> No -> Positive\n",
      "Polydipsia -> No -> Gender -> Male -> Polyuria -> No -> Irritability -> No -> weakness -> Yes -> Age -> 2 -> Genital thrush -> Yes -> Polyphagia -> No -> Negative\n",
      "Polydipsia -> No -> Gender -> Male -> Polyuria -> No -> Irritability -> No -> weakness -> Yes -> Age -> 2 -> Genital thrush -> Yes -> Polyphagia -> Yes -> Positive\n",
      "Polydipsia -> No -> Gender -> Male -> Polyuria -> No -> Irritability -> No -> weakness -> Yes -> Age -> 3 -> delayed healing -> No -> visual blurring -> No -> Negative\n",
      "Polydipsia -> No -> Gender -> Male -> Polyuria -> No -> Irritability -> No -> weakness -> Yes -> Age -> 3 -> delayed healing -> No -> visual blurring -> Yes -> Positive\n",
      "Polydipsia -> No -> Gender -> Male -> Polyuria -> No -> Irritability -> No -> weakness -> Yes -> Age -> 3 -> delayed healing -> Yes -> Negative\n",
      "Polydipsia -> No -> Gender -> Male -> Polyuria -> No -> Irritability -> No -> weakness -> Yes -> Age -> 4 -> Negative\n",
      "Polydipsia -> No -> Gender -> Male -> Polyuria -> No -> Irritability -> No -> weakness -> Yes -> Age -> 5 -> Negative\n",
      "Polydipsia -> No -> Gender -> Male -> Polyuria -> No -> Irritability -> Yes -> Genital thrush -> No -> Age -> 1 -> Negative\n",
      "Polydipsia -> No -> Gender -> Male -> Polyuria -> No -> Irritability -> Yes -> Genital thrush -> No -> Age -> 2 -> weakness -> No -> Negative\n",
      "Polydipsia -> No -> Gender -> Male -> Polyuria -> No -> Irritability -> Yes -> Genital thrush -> No -> Age -> 2 -> weakness -> Yes -> Positive\n",
      "Polydipsia -> No -> Gender -> Male -> Polyuria -> No -> Irritability -> Yes -> Genital thrush -> No -> Age -> 3 -> Negative\n",
      "Polydipsia -> No -> Gender -> Male -> Polyuria -> No -> Irritability -> Yes -> Genital thrush -> No -> Age -> 4 -> Negative\n",
      "Polydipsia -> No -> Gender -> Male -> Polyuria -> No -> Irritability -> Yes -> Genital thrush -> No -> Age -> 5 -> Negative\n",
      "Polydipsia -> No -> Gender -> Male -> Polyuria -> No -> Irritability -> Yes -> Genital thrush -> Yes -> Positive\n",
      "Polydipsia -> No -> Gender -> Male -> Polyuria -> Yes -> Itching -> No -> Positive\n",
      "Polydipsia -> No -> Gender -> Male -> Polyuria -> Yes -> Itching -> Yes -> delayed healing -> No -> Positive\n",
      "Polydipsia -> No -> Gender -> Male -> Polyuria -> Yes -> Itching -> Yes -> delayed healing -> Yes -> Alopecia -> No -> Positive\n",
      "Polydipsia -> No -> Gender -> Male -> Polyuria -> Yes -> Itching -> Yes -> delayed healing -> Yes -> Alopecia -> Yes -> Negative\n",
      "Polydipsia -> Yes -> Polyuria -> No -> muscle stiffness -> No -> Positive\n",
      "Polydipsia -> Yes -> Polyuria -> No -> muscle stiffness -> Yes -> Gender -> Female -> Positive\n",
      "Polydipsia -> Yes -> Polyuria -> No -> muscle stiffness -> Yes -> Gender -> Male -> Obesity -> No -> Negative\n",
      "Polydipsia -> Yes -> Polyuria -> No -> muscle stiffness -> Yes -> Gender -> Male -> Obesity -> Yes -> Positive\n",
      "Polydipsia -> Yes -> Polyuria -> Yes -> Positive\n",
      "ACCURACY FOR  2 0.9134615384615384\n",
      "PRECISION FOR  2 0.9076923076923077\n",
      "RECALL FOR  2 0.9516129032258065\n",
      "F1 SCORE FOR  2 0.9291338582677167\n",
      "Computation time: 0.16803455352783203\n",
      "Polyuria -> No -> Gender -> Female -> Alopecia -> No -> Age -> 1 -> Positive\n",
      "Polyuria -> No -> Gender -> Female -> Alopecia -> No -> Age -> 2 -> Itching -> No -> Irritability -> No -> weakness -> No -> sudden weight loss -> No -> Obesity -> No -> Polydipsia -> No -> Polyphagia -> No -> Genital thrush -> No -> visual blurring -> No -> delayed healing -> No -> partial paresis -> No -> muscle stiffness -> No -> Positive\n",
      "Polyuria -> No -> Gender -> Female -> Alopecia -> No -> Age -> 2 -> Itching -> No -> Irritability -> No -> weakness -> No -> sudden weight loss -> No -> Obesity -> No -> Polydipsia -> No -> Polyphagia -> No -> Genital thrush -> No -> visual blurring -> No -> delayed healing -> No -> partial paresis -> No -> muscle stiffness -> Yes -> Positive\n",
      "Polyuria -> No -> Gender -> Female -> Alopecia -> No -> Age -> 2 -> Itching -> No -> Irritability -> No -> weakness -> No -> sudden weight loss -> No -> Obesity -> No -> Polydipsia -> No -> Polyphagia -> No -> Genital thrush -> No -> visual blurring -> No -> delayed healing -> No -> partial paresis -> Yes -> Positive\n",
      "Polyuria -> No -> Gender -> Female -> Alopecia -> No -> Age -> 2 -> Itching -> No -> Irritability -> No -> weakness -> No -> sudden weight loss -> No -> Obesity -> No -> Polydipsia -> No -> Polyphagia -> No -> Genital thrush -> No -> visual blurring -> No -> delayed healing -> Yes -> Positive\n",
      "Polyuria -> No -> Gender -> Female -> Alopecia -> No -> Age -> 2 -> Itching -> No -> Irritability -> No -> weakness -> No -> sudden weight loss -> No -> Obesity -> No -> Polydipsia -> No -> Polyphagia -> No -> Genital thrush -> No -> visual blurring -> Yes -> Positive\n",
      "Polyuria -> No -> Gender -> Female -> Alopecia -> No -> Age -> 2 -> Itching -> No -> Irritability -> No -> weakness -> No -> sudden weight loss -> No -> Obesity -> No -> Polydipsia -> No -> Polyphagia -> No -> Genital thrush -> Yes -> Positive\n",
      "Polyuria -> No -> Gender -> Female -> Alopecia -> No -> Age -> 2 -> Itching -> No -> Irritability -> No -> weakness -> No -> sudden weight loss -> No -> Obesity -> No -> Polydipsia -> No -> Polyphagia -> Yes -> Positive\n",
      "Polyuria -> No -> Gender -> Female -> Alopecia -> No -> Age -> 2 -> Itching -> No -> Irritability -> No -> weakness -> No -> sudden weight loss -> No -> Obesity -> No -> Polydipsia -> Yes -> Positive\n",
      "Polyuria -> No -> Gender -> Female -> Alopecia -> No -> Age -> 2 -> Itching -> No -> Irritability -> No -> weakness -> No -> sudden weight loss -> No -> Obesity -> Yes -> Positive\n",
      "Polyuria -> No -> Gender -> Female -> Alopecia -> No -> Age -> 2 -> Itching -> No -> Irritability -> No -> weakness -> No -> sudden weight loss -> Yes -> Negative\n",
      "Polyuria -> No -> Gender -> Female -> Alopecia -> No -> Age -> 2 -> Itching -> No -> Irritability -> No -> weakness -> Yes -> Positive\n",
      "Polyuria -> No -> Gender -> Female -> Alopecia -> No -> Age -> 2 -> Itching -> No -> Irritability -> Yes -> Negative\n",
      "Polyuria -> No -> Gender -> Female -> Alopecia -> No -> Age -> 2 -> Itching -> Yes -> Positive\n",
      "Polyuria -> No -> Gender -> Female -> Alopecia -> No -> Age -> 3 -> Positive\n",
      "Polyuria -> No -> Gender -> Female -> Alopecia -> No -> Age -> 4 -> Positive\n",
      "Polyuria -> No -> Gender -> Female -> Alopecia -> No -> Age -> 5 -> Positive\n",
      "Polyuria -> No -> Gender -> Female -> Alopecia -> Yes -> Age -> 1 -> Positive\n",
      "Polyuria -> No -> Gender -> Female -> Alopecia -> Yes -> Age -> 2 -> Negative\n",
      "Polyuria -> No -> Gender -> Female -> Alopecia -> Yes -> Age -> 3 -> Negative\n",
      "Polyuria -> No -> Gender -> Female -> Alopecia -> Yes -> Age -> 4 -> Negative\n",
      "Polyuria -> No -> Gender -> Female -> Alopecia -> Yes -> Age -> 5 -> Positive\n",
      "Polyuria -> No -> Gender -> Male -> Irritability -> No -> Polydipsia -> No -> Age -> 1 -> Negative\n",
      "Polyuria -> No -> Gender -> Male -> Irritability -> No -> Polydipsia -> No -> Age -> 2 -> delayed healing -> No -> Negative\n",
      "Polyuria -> No -> Gender -> Male -> Irritability -> No -> Polydipsia -> No -> Age -> 2 -> delayed healing -> Yes -> Genital thrush -> No -> Positive\n",
      "Polyuria -> No -> Gender -> Male -> Irritability -> No -> Polydipsia -> No -> Age -> 2 -> delayed healing -> Yes -> Genital thrush -> Yes -> Polyphagia -> No -> Negative\n",
      "Polyuria -> No -> Gender -> Male -> Irritability -> No -> Polydipsia -> No -> Age -> 2 -> delayed healing -> Yes -> Genital thrush -> Yes -> Polyphagia -> Yes -> Positive\n",
      "Polyuria -> No -> Gender -> Male -> Irritability -> No -> Polydipsia -> No -> Age -> 3 -> Negative\n",
      "Polyuria -> No -> Gender -> Male -> Irritability -> No -> Polydipsia -> No -> Age -> 4 -> Itching -> No -> Positive\n",
      "Polyuria -> No -> Gender -> Male -> Irritability -> No -> Polydipsia -> No -> Age -> 4 -> Itching -> Yes -> Negative\n",
      "Polyuria -> No -> Gender -> Male -> Irritability -> No -> Polydipsia -> No -> Age -> 5 -> Negative\n",
      "Polyuria -> No -> Gender -> Male -> Irritability -> No -> Polydipsia -> Yes -> Itching -> No -> Positive\n",
      "Polyuria -> No -> Gender -> Male -> Irritability -> No -> Polydipsia -> Yes -> Itching -> Yes -> Alopecia -> No -> Negative\n",
      "Polyuria -> No -> Gender -> Male -> Irritability -> No -> Polydipsia -> Yes -> Itching -> Yes -> Alopecia -> Yes -> Positive\n",
      "Polyuria -> No -> Gender -> Male -> Irritability -> Yes -> Polydipsia -> No -> Genital thrush -> No -> Polyphagia -> No -> Negative\n",
      "Polyuria -> No -> Gender -> Male -> Irritability -> Yes -> Polydipsia -> No -> Genital thrush -> No -> Polyphagia -> Yes -> Age -> 1 -> Negative\n",
      "Polyuria -> No -> Gender -> Male -> Irritability -> Yes -> Polydipsia -> No -> Genital thrush -> No -> Polyphagia -> Yes -> Age -> 2 -> Positive\n",
      "Polyuria -> No -> Gender -> Male -> Irritability -> Yes -> Polydipsia -> No -> Genital thrush -> No -> Polyphagia -> Yes -> Age -> 3 -> Negative\n",
      "Polyuria -> No -> Gender -> Male -> Irritability -> Yes -> Polydipsia -> No -> Genital thrush -> No -> Polyphagia -> Yes -> Age -> 4 -> Negative\n",
      "Polyuria -> No -> Gender -> Male -> Irritability -> Yes -> Polydipsia -> No -> Genital thrush -> No -> Polyphagia -> Yes -> Age -> 5 -> Negative\n",
      "Polyuria -> No -> Gender -> Male -> Irritability -> Yes -> Polydipsia -> No -> Genital thrush -> Yes -> Positive\n",
      "Polyuria -> No -> Gender -> Male -> Irritability -> Yes -> Polydipsia -> Yes -> Positive\n"
     ]
    },
    {
     "name": "stdout",
     "output_type": "stream",
     "text": [
      "Polyuria -> Yes -> Polydipsia -> No -> delayed healing -> No -> Positive\n",
      "Polyuria -> Yes -> Polydipsia -> No -> delayed healing -> Yes -> Itching -> No -> Positive\n",
      "Polyuria -> Yes -> Polydipsia -> No -> delayed healing -> Yes -> Itching -> Yes -> Alopecia -> No -> Positive\n",
      "Polyuria -> Yes -> Polydipsia -> No -> delayed healing -> Yes -> Itching -> Yes -> Alopecia -> Yes -> Age -> 1 -> Negative\n",
      "Polyuria -> Yes -> Polydipsia -> No -> delayed healing -> Yes -> Itching -> Yes -> Alopecia -> Yes -> Age -> 2 -> sudden weight loss -> No -> Positive\n",
      "Polyuria -> Yes -> Polydipsia -> No -> delayed healing -> Yes -> Itching -> Yes -> Alopecia -> Yes -> Age -> 2 -> sudden weight loss -> Yes -> Negative\n",
      "Polyuria -> Yes -> Polydipsia -> No -> delayed healing -> Yes -> Itching -> Yes -> Alopecia -> Yes -> Age -> 3 -> Negative\n",
      "Polyuria -> Yes -> Polydipsia -> No -> delayed healing -> Yes -> Itching -> Yes -> Alopecia -> Yes -> Age -> 4 -> Negative\n",
      "Polyuria -> Yes -> Polydipsia -> No -> delayed healing -> Yes -> Itching -> Yes -> Alopecia -> Yes -> Age -> 5 -> Negative\n",
      "Polyuria -> Yes -> Polydipsia -> Yes -> Positive\n",
      "ACCURACY FOR  3 0.9326923076923077\n",
      "PRECISION FOR  3 0.9375\n",
      "RECALL FOR  3 0.9523809523809523\n",
      "F1 SCORE FOR  3 0.9448818897637795\n",
      "Computation time: 0.13502740859985352\n",
      "Polyuria -> No -> Gender -> Female -> Alopecia -> No -> visual blurring -> No -> Age -> 1 -> Negative\n",
      "Polyuria -> No -> Gender -> Female -> Alopecia -> No -> visual blurring -> No -> Age -> 2 -> sudden weight loss -> No -> Obesity -> No -> Polydipsia -> No -> weakness -> No -> Polyphagia -> No -> Genital thrush -> No -> Itching -> No -> Irritability -> No -> delayed healing -> No -> partial paresis -> No -> muscle stiffness -> No -> Positive\n",
      "Polyuria -> No -> Gender -> Female -> Alopecia -> No -> visual blurring -> No -> Age -> 2 -> sudden weight loss -> No -> Obesity -> No -> Polydipsia -> No -> weakness -> No -> Polyphagia -> No -> Genital thrush -> No -> Itching -> No -> Irritability -> No -> delayed healing -> No -> partial paresis -> No -> muscle stiffness -> Yes -> Positive\n",
      "Polyuria -> No -> Gender -> Female -> Alopecia -> No -> visual blurring -> No -> Age -> 2 -> sudden weight loss -> No -> Obesity -> No -> Polydipsia -> No -> weakness -> No -> Polyphagia -> No -> Genital thrush -> No -> Itching -> No -> Irritability -> No -> delayed healing -> No -> partial paresis -> Yes -> Positive\n",
      "Polyuria -> No -> Gender -> Female -> Alopecia -> No -> visual blurring -> No -> Age -> 2 -> sudden weight loss -> No -> Obesity -> No -> Polydipsia -> No -> weakness -> No -> Polyphagia -> No -> Genital thrush -> No -> Itching -> No -> Irritability -> No -> delayed healing -> Yes -> Positive\n",
      "Polyuria -> No -> Gender -> Female -> Alopecia -> No -> visual blurring -> No -> Age -> 2 -> sudden weight loss -> No -> Obesity -> No -> Polydipsia -> No -> weakness -> No -> Polyphagia -> No -> Genital thrush -> No -> Itching -> No -> Irritability -> Yes -> Positive\n",
      "Polyuria -> No -> Gender -> Female -> Alopecia -> No -> visual blurring -> No -> Age -> 2 -> sudden weight loss -> No -> Obesity -> No -> Polydipsia -> No -> weakness -> No -> Polyphagia -> No -> Genital thrush -> No -> Itching -> Yes -> Positive\n",
      "Polyuria -> No -> Gender -> Female -> Alopecia -> No -> visual blurring -> No -> Age -> 2 -> sudden weight loss -> No -> Obesity -> No -> Polydipsia -> No -> weakness -> No -> Polyphagia -> No -> Genital thrush -> Yes -> Positive\n",
      "Polyuria -> No -> Gender -> Female -> Alopecia -> No -> visual blurring -> No -> Age -> 2 -> sudden weight loss -> No -> Obesity -> No -> Polydipsia -> No -> weakness -> No -> Polyphagia -> Yes -> Positive\n",
      "Polyuria -> No -> Gender -> Female -> Alopecia -> No -> visual blurring -> No -> Age -> 2 -> sudden weight loss -> No -> Obesity -> No -> Polydipsia -> No -> weakness -> Yes -> Positive\n",
      "Polyuria -> No -> Gender -> Female -> Alopecia -> No -> visual blurring -> No -> Age -> 2 -> sudden weight loss -> No -> Obesity -> No -> Polydipsia -> Yes -> Positive\n",
      "Polyuria -> No -> Gender -> Female -> Alopecia -> No -> visual blurring -> No -> Age -> 2 -> sudden weight loss -> No -> Obesity -> Yes -> Positive\n",
      "Polyuria -> No -> Gender -> Female -> Alopecia -> No -> visual blurring -> No -> Age -> 2 -> sudden weight loss -> Yes -> Positive\n",
      "Polyuria -> No -> Gender -> Female -> Alopecia -> No -> visual blurring -> No -> Age -> 3 -> Positive\n",
      "Polyuria -> No -> Gender -> Female -> Alopecia -> No -> visual blurring -> No -> Age -> 4 -> Positive\n",
      "Polyuria -> No -> Gender -> Female -> Alopecia -> No -> visual blurring -> No -> Age -> 5 -> Positive\n",
      "Polyuria -> No -> Gender -> Female -> Alopecia -> No -> visual blurring -> Yes -> Positive\n",
      "Polyuria -> No -> Gender -> Female -> Alopecia -> Yes -> Age -> 1 -> Negative\n",
      "Polyuria -> No -> Gender -> Female -> Alopecia -> Yes -> Age -> 2 -> Negative\n",
      "Polyuria -> No -> Gender -> Female -> Alopecia -> Yes -> Age -> 3 -> Negative\n",
      "Polyuria -> No -> Gender -> Female -> Alopecia -> Yes -> Age -> 4 -> Negative\n",
      "Polyuria -> No -> Gender -> Female -> Alopecia -> Yes -> Age -> 5 -> Positive\n",
      "Polyuria -> No -> Gender -> Male -> Polydipsia -> No -> Irritability -> No -> partial paresis -> No -> delayed healing -> No -> Negative\n",
      "Polyuria -> No -> Gender -> Male -> Polydipsia -> No -> Irritability -> No -> partial paresis -> No -> delayed healing -> Yes -> Itching -> No -> sudden weight loss -> No -> Positive\n",
      "Polyuria -> No -> Gender -> Male -> Polydipsia -> No -> Irritability -> No -> partial paresis -> No -> delayed healing -> Yes -> Itching -> No -> sudden weight loss -> Yes -> Negative\n",
      "Polyuria -> No -> Gender -> Male -> Polydipsia -> No -> Irritability -> No -> partial paresis -> No -> delayed healing -> Yes -> Itching -> Yes -> Negative\n",
      "Polyuria -> No -> Gender -> Male -> Polydipsia -> No -> Irritability -> No -> partial paresis -> Yes -> muscle stiffness -> No -> Age -> 1 -> Positive\n",
      "Polyuria -> No -> Gender -> Male -> Polydipsia -> No -> Irritability -> No -> partial paresis -> Yes -> muscle stiffness -> No -> Age -> 2 -> Negative\n",
      "Polyuria -> No -> Gender -> Male -> Polydipsia -> No -> Irritability -> No -> partial paresis -> Yes -> muscle stiffness -> No -> Age -> 3 -> Positive\n",
      "Polyuria -> No -> Gender -> Male -> Polydipsia -> No -> Irritability -> No -> partial paresis -> Yes -> muscle stiffness -> No -> Age -> 4 -> Positive\n",
      "Polyuria -> No -> Gender -> Male -> Polydipsia -> No -> Irritability -> No -> partial paresis -> Yes -> muscle stiffness -> No -> Age -> 5 -> Positive\n",
      "Polyuria -> No -> Gender -> Male -> Polydipsia -> No -> Irritability -> No -> partial paresis -> Yes -> muscle stiffness -> Yes -> Negative\n",
      "Polyuria -> No -> Gender -> Male -> Polydipsia -> No -> Irritability -> Yes -> Genital thrush -> No -> Age -> 1 -> Negative\n",
      "Polyuria -> No -> Gender -> Male -> Polydipsia -> No -> Irritability -> Yes -> Genital thrush -> No -> Age -> 2 -> Polyphagia -> No -> Negative\n",
      "Polyuria -> No -> Gender -> Male -> Polydipsia -> No -> Irritability -> Yes -> Genital thrush -> No -> Age -> 2 -> Polyphagia -> Yes -> Positive\n",
      "Polyuria -> No -> Gender -> Male -> Polydipsia -> No -> Irritability -> Yes -> Genital thrush -> No -> Age -> 3 -> Negative\n",
      "Polyuria -> No -> Gender -> Male -> Polydipsia -> No -> Irritability -> Yes -> Genital thrush -> No -> Age -> 4 -> Negative\n",
      "Polyuria -> No -> Gender -> Male -> Polydipsia -> No -> Irritability -> Yes -> Genital thrush -> No -> Age -> 5 -> Negative\n",
      "Polyuria -> No -> Gender -> Male -> Polydipsia -> No -> Irritability -> Yes -> Genital thrush -> Yes -> Positive\n",
      "Polyuria -> No -> Gender -> Male -> Polydipsia -> Yes -> Irritability -> No -> muscle stiffness -> No -> partial paresis -> No -> Positive\n",
      "Polyuria -> No -> Gender -> Male -> Polydipsia -> Yes -> Irritability -> No -> muscle stiffness -> No -> partial paresis -> Yes -> sudden weight loss -> No -> Negative\n",
      "Polyuria -> No -> Gender -> Male -> Polydipsia -> Yes -> Irritability -> No -> muscle stiffness -> No -> partial paresis -> Yes -> sudden weight loss -> Yes -> Positive\n",
      "Polyuria -> No -> Gender -> Male -> Polydipsia -> Yes -> Irritability -> No -> muscle stiffness -> Yes -> visual blurring -> No -> Positive\n",
      "Polyuria -> No -> Gender -> Male -> Polydipsia -> Yes -> Irritability -> No -> muscle stiffness -> Yes -> visual blurring -> Yes -> Negative\n",
      "Polyuria -> No -> Gender -> Male -> Polydipsia -> Yes -> Irritability -> Yes -> Positive\n",
      "Polyuria -> Yes -> Polydipsia -> No -> Itching -> No -> Positive\n",
      "Polyuria -> Yes -> Polydipsia -> No -> Itching -> Yes -> delayed healing -> No -> Positive\n",
      "Polyuria -> Yes -> Polydipsia -> No -> Itching -> Yes -> delayed healing -> Yes -> Obesity -> No -> weakness -> No -> Age -> 1 -> Negative\n",
      "Polyuria -> Yes -> Polydipsia -> No -> Itching -> Yes -> delayed healing -> Yes -> Obesity -> No -> weakness -> No -> Age -> 2 -> Positive\n",
      "Polyuria -> Yes -> Polydipsia -> No -> Itching -> Yes -> delayed healing -> Yes -> Obesity -> No -> weakness -> No -> Age -> 3 -> Negative\n",
      "Polyuria -> Yes -> Polydipsia -> No -> Itching -> Yes -> delayed healing -> Yes -> Obesity -> No -> weakness -> No -> Age -> 4 -> Negative\n",
      "Polyuria -> Yes -> Polydipsia -> No -> Itching -> Yes -> delayed healing -> Yes -> Obesity -> No -> weakness -> No -> Age -> 5 -> Negative\n",
      "Polyuria -> Yes -> Polydipsia -> No -> Itching -> Yes -> delayed healing -> Yes -> Obesity -> No -> weakness -> Yes -> Positive\n",
      "Polyuria -> Yes -> Polydipsia -> No -> Itching -> Yes -> delayed healing -> Yes -> Obesity -> Yes -> Negative\n",
      "Polyuria -> Yes -> Polydipsia -> Yes -> Positive\n",
      "ACCURACY FOR  4 0.9230769230769231\n",
      "PRECISION FOR  4 0.9393939393939394\n",
      "RECALL FOR  4 0.9393939393939394\n",
      "F1 SCORE FOR  4 0.9393939393939394\n",
      "Computation time: 0.12604737281799316\n"
     ]
    },
    {
     "name": "stdout",
     "output_type": "stream",
     "text": [
      "Polyuria -> No -> Polydipsia -> No -> Gender -> Female -> delayed healing -> No -> visual blurring -> No -> Age -> 1 -> Negative\n",
      "Polyuria -> No -> Polydipsia -> No -> Gender -> Female -> delayed healing -> No -> visual blurring -> No -> Age -> 2 -> sudden weight loss -> No -> weakness -> No -> Polyphagia -> No -> Genital thrush -> No -> Itching -> No -> Irritability -> No -> partial paresis -> No -> muscle stiffness -> No -> Alopecia -> No -> Obesity -> No -> Positive\n",
      "Polyuria -> No -> Polydipsia -> No -> Gender -> Female -> delayed healing -> No -> visual blurring -> No -> Age -> 2 -> sudden weight loss -> No -> weakness -> No -> Polyphagia -> No -> Genital thrush -> No -> Itching -> No -> Irritability -> No -> partial paresis -> No -> muscle stiffness -> No -> Alopecia -> No -> Obesity -> Yes -> Positive\n",
      "Polyuria -> No -> Polydipsia -> No -> Gender -> Female -> delayed healing -> No -> visual blurring -> No -> Age -> 2 -> sudden weight loss -> No -> weakness -> No -> Polyphagia -> No -> Genital thrush -> No -> Itching -> No -> Irritability -> No -> partial paresis -> No -> muscle stiffness -> No -> Alopecia -> Yes -> Positive\n",
      "Polyuria -> No -> Polydipsia -> No -> Gender -> Female -> delayed healing -> No -> visual blurring -> No -> Age -> 2 -> sudden weight loss -> No -> weakness -> No -> Polyphagia -> No -> Genital thrush -> No -> Itching -> No -> Irritability -> No -> partial paresis -> No -> muscle stiffness -> Yes -> Positive\n",
      "Polyuria -> No -> Polydipsia -> No -> Gender -> Female -> delayed healing -> No -> visual blurring -> No -> Age -> 2 -> sudden weight loss -> No -> weakness -> No -> Polyphagia -> No -> Genital thrush -> No -> Itching -> No -> Irritability -> No -> partial paresis -> Yes -> Positive\n",
      "Polyuria -> No -> Polydipsia -> No -> Gender -> Female -> delayed healing -> No -> visual blurring -> No -> Age -> 2 -> sudden weight loss -> No -> weakness -> No -> Polyphagia -> No -> Genital thrush -> No -> Itching -> No -> Irritability -> Yes -> Positive\n",
      "Polyuria -> No -> Polydipsia -> No -> Gender -> Female -> delayed healing -> No -> visual blurring -> No -> Age -> 2 -> sudden weight loss -> No -> weakness -> No -> Polyphagia -> No -> Genital thrush -> No -> Itching -> Yes -> Positive\n",
      "Polyuria -> No -> Polydipsia -> No -> Gender -> Female -> delayed healing -> No -> visual blurring -> No -> Age -> 2 -> sudden weight loss -> No -> weakness -> No -> Polyphagia -> No -> Genital thrush -> Yes -> Positive\n",
      "Polyuria -> No -> Polydipsia -> No -> Gender -> Female -> delayed healing -> No -> visual blurring -> No -> Age -> 2 -> sudden weight loss -> No -> weakness -> No -> Polyphagia -> Yes -> Positive\n",
      "Polyuria -> No -> Polydipsia -> No -> Gender -> Female -> delayed healing -> No -> visual blurring -> No -> Age -> 2 -> sudden weight loss -> No -> weakness -> Yes -> Negative\n",
      "Polyuria -> No -> Polydipsia -> No -> Gender -> Female -> delayed healing -> No -> visual blurring -> No -> Age -> 2 -> sudden weight loss -> Yes -> Negative\n",
      "Polyuria -> No -> Polydipsia -> No -> Gender -> Female -> delayed healing -> No -> visual blurring -> No -> Age -> 3 -> Positive\n",
      "Polyuria -> No -> Polydipsia -> No -> Gender -> Female -> delayed healing -> No -> visual blurring -> No -> Age -> 4 -> Positive\n",
      "Polyuria -> No -> Polydipsia -> No -> Gender -> Female -> delayed healing -> No -> visual blurring -> No -> Age -> 5 -> Positive\n",
      "Polyuria -> No -> Polydipsia -> No -> Gender -> Female -> delayed healing -> No -> visual blurring -> Yes -> Positive\n",
      "Polyuria -> No -> Polydipsia -> No -> Gender -> Female -> delayed healing -> Yes -> sudden weight loss -> No -> Negative\n",
      "Polyuria -> No -> Polydipsia -> No -> Gender -> Female -> delayed healing -> Yes -> sudden weight loss -> Yes -> Positive\n",
      "Polyuria -> No -> Polydipsia -> No -> Gender -> Male -> Irritability -> No -> Age -> 1 -> Negative\n",
      "Polyuria -> No -> Polydipsia -> No -> Gender -> Male -> Irritability -> No -> Age -> 2 -> delayed healing -> No -> Negative\n",
      "Polyuria -> No -> Polydipsia -> No -> Gender -> Male -> Irritability -> No -> Age -> 2 -> delayed healing -> Yes -> Genital thrush -> No -> Positive\n",
      "Polyuria -> No -> Polydipsia -> No -> Gender -> Male -> Irritability -> No -> Age -> 2 -> delayed healing -> Yes -> Genital thrush -> Yes -> Polyphagia -> No -> Negative\n",
      "Polyuria -> No -> Polydipsia -> No -> Gender -> Male -> Irritability -> No -> Age -> 2 -> delayed healing -> Yes -> Genital thrush -> Yes -> Polyphagia -> Yes -> Positive\n",
      "Polyuria -> No -> Polydipsia -> No -> Gender -> Male -> Irritability -> No -> Age -> 3 -> partial paresis -> No -> Negative\n",
      "Polyuria -> No -> Polydipsia -> No -> Gender -> Male -> Irritability -> No -> Age -> 3 -> partial paresis -> Yes -> muscle stiffness -> No -> Positive\n",
      "Polyuria -> No -> Polydipsia -> No -> Gender -> Male -> Irritability -> No -> Age -> 3 -> partial paresis -> Yes -> muscle stiffness -> Yes -> Negative\n",
      "Polyuria -> No -> Polydipsia -> No -> Gender -> Male -> Irritability -> No -> Age -> 4 -> Itching -> No -> partial paresis -> No -> Negative\n",
      "Polyuria -> No -> Polydipsia -> No -> Gender -> Male -> Irritability -> No -> Age -> 4 -> Itching -> No -> partial paresis -> Yes -> Positive\n",
      "Polyuria -> No -> Polydipsia -> No -> Gender -> Male -> Irritability -> No -> Age -> 4 -> Itching -> Yes -> Negative\n",
      "Polyuria -> No -> Polydipsia -> No -> Gender -> Male -> Irritability -> No -> Age -> 5 -> Negative\n",
      "Polyuria -> No -> Polydipsia -> No -> Gender -> Male -> Irritability -> Yes -> Genital thrush -> No -> Age -> 1 -> Negative\n",
      "Polyuria -> No -> Polydipsia -> No -> Gender -> Male -> Irritability -> Yes -> Genital thrush -> No -> Age -> 2 -> Polyphagia -> No -> Negative\n",
      "Polyuria -> No -> Polydipsia -> No -> Gender -> Male -> Irritability -> Yes -> Genital thrush -> No -> Age -> 2 -> Polyphagia -> Yes -> Positive\n",
      "Polyuria -> No -> Polydipsia -> No -> Gender -> Male -> Irritability -> Yes -> Genital thrush -> No -> Age -> 3 -> Negative\n",
      "Polyuria -> No -> Polydipsia -> No -> Gender -> Male -> Irritability -> Yes -> Genital thrush -> No -> Age -> 4 -> Negative\n",
      "Polyuria -> No -> Polydipsia -> No -> Gender -> Male -> Irritability -> Yes -> Genital thrush -> No -> Age -> 5 -> Negative\n",
      "Polyuria -> No -> Polydipsia -> No -> Gender -> Male -> Irritability -> Yes -> Genital thrush -> Yes -> Positive\n",
      "Polyuria -> No -> Polydipsia -> Yes -> Irritability -> No -> muscle stiffness -> No -> partial paresis -> No -> Positive\n",
      "Polyuria -> No -> Polydipsia -> Yes -> Irritability -> No -> muscle stiffness -> No -> partial paresis -> Yes -> sudden weight loss -> No -> Negative\n",
      "Polyuria -> No -> Polydipsia -> Yes -> Irritability -> No -> muscle stiffness -> No -> partial paresis -> Yes -> sudden weight loss -> Yes -> Positive\n",
      "Polyuria -> No -> Polydipsia -> Yes -> Irritability -> No -> muscle stiffness -> Yes -> Gender -> Female -> Positive\n",
      "Polyuria -> No -> Polydipsia -> Yes -> Irritability -> No -> muscle stiffness -> Yes -> Gender -> Male -> Negative\n",
      "Polyuria -> No -> Polydipsia -> Yes -> Irritability -> Yes -> Positive\n",
      "Polyuria -> Yes -> Alopecia -> No -> Positive\n",
      "Polyuria -> Yes -> Alopecia -> Yes -> Itching -> No -> Positive\n",
      "Polyuria -> Yes -> Alopecia -> Yes -> Itching -> Yes -> delayed healing -> No -> Positive\n",
      "Polyuria -> Yes -> Alopecia -> Yes -> Itching -> Yes -> delayed healing -> Yes -> Age -> 1 -> Positive\n",
      "Polyuria -> Yes -> Alopecia -> Yes -> Itching -> Yes -> delayed healing -> Yes -> Age -> 2 -> sudden weight loss -> No -> Positive\n",
      "Polyuria -> Yes -> Alopecia -> Yes -> Itching -> Yes -> delayed healing -> Yes -> Age -> 2 -> sudden weight loss -> Yes -> Negative\n",
      "Polyuria -> Yes -> Alopecia -> Yes -> Itching -> Yes -> delayed healing -> Yes -> Age -> 3 -> Positive\n",
      "Polyuria -> Yes -> Alopecia -> Yes -> Itching -> Yes -> delayed healing -> Yes -> Age -> 4 -> Gender -> Female -> Positive\n",
      "Polyuria -> Yes -> Alopecia -> Yes -> Itching -> Yes -> delayed healing -> Yes -> Age -> 4 -> Gender -> Male -> Negative\n",
      "Polyuria -> Yes -> Alopecia -> Yes -> Itching -> Yes -> delayed healing -> Yes -> Age -> 5 -> Negative\n",
      "ACCURACY FOR  5 0.9807692307692307\n",
      "PRECISION FOR  5 1.0\n",
      "RECALL FOR  5 0.9701492537313433\n",
      "F1 SCORE FOR  5 0.9848484848484849\n",
      "Computation time: 0.15401721000671387\n"
     ]
    }
   ],
   "source": [
    "k_fold = KFold(n_splits=5, shuffle=True)\n",
    "c = 0\n",
    "for train_index, test_index in k_fold.split(df):\n",
    "    startTime = time.time()\n",
    "    train_data , test_data =  df[train_index], df[test_index]\n",
    "    tree = decision_tree_algorithm(train_data, COLUMN_IDS , \"\")\n",
    "    predicts = predict(tree, test_data)\n",
    "    c+=1\n",
    "    print(\"ACCURACY FOR \" , c , end = \" \")\n",
    "    print(accuracy_score(test_data[:,-1], predicts))\n",
    "\n",
    "    print(\"PRECISION FOR \" , c , end = \" \")\n",
    "    print(precision_score(test_data[:,-1], predicts, average=\"binary\" , pos_label=\"Positive\"))\n",
    "\n",
    "    \n",
    "    print(\"RECALL FOR \" , c , end = \" \")\n",
    "    print(recall_score(test_data[:,-1], predicts ,average=\"binary\", pos_label=\"Positive\"))\n",
    "\n",
    "    print(\"F1 SCORE FOR \" , c , end = \" \")\n",
    "    print(f1_score(test_data[:,-1], predicts,average=\"binary\",pos_label=\"Positive\"))\n",
    "    endTime = time.time()\n",
    "    print(\"Computation time:\", (endTime-startTime))\n"
   ]
  },
  {
   "cell_type": "markdown",
   "metadata": {},
   "source": [
    "<img src=\"tablex.png\" width=450 height=300 />\n"
   ]
  },
  {
   "cell_type": "markdown",
   "metadata": {},
   "source": [
    "## Error Analysis for Classification\n",
    "- If we check **Accuracy** values at the table we can see the k=1 and k=4 stuations has same values and others has approximate values. This shows us that correct predictions do not chenge much at various K values and the algorithm makes consistent predictions in different situations. \n",
    "- The **PRECISION** value gives us the ratio of the true correct values within the correctly predicted values. The fact that the precision value is 1 at K=3 shows us that all the values estimated as positive are correct. In this case the value of false positive is zero. That means all individuals identified as sick are truly sick\n",
    "- The **RECALL** value is the ratio of true positive predictions to actual positive values. At the table k=4 column has RECALL equals 1. This means the all positive conditions predicted correct. In our example data set this means all sick individual predicted truely . High recall values very important especially medical stuations like our data set example because diagnosing a sick individual as not sick can have serious consequences. \n",
    "- Sometimes, separate evaluation of recall and precision values may not yield accurate results. To evaluate these variables together, we need a different metric. The **F1** score is the harmonic mean of Recall and Precision. The main reason for using the **F1** Score value is not to make an incorrect model selection in data sets that are not evenly distributed. Also, the F1 Score is very important to us because we need a measurement metric that will include all error costs, not just False Negative or False Positive. The best f1 scores in the table are in columns K=1 and K=4. From here, we understand that the most healthy distribution is at 1 and 4 K values.\n",
    "- When we consider the **time** variable, we see different durations in the calculations. The biggest reason for this is the size of the decision trees created when we mix the data. The size of decision trees affects both training and testing times."
   ]
  },
  {
   "cell_type": "markdown",
   "metadata": {},
   "source": [
    "## Misclassified Samples\n",
    "- Below are some misclassified examples from the dataset. When the examples are examined, we see that the features are very close to each other. This indicates that the misclassification is due to Overfitting. Overfitting is a common occurrence in Decision Tree algorithm. Simply put, Overfit is a situation where the algorithm breaks down from Generalization by over-analyzing the trainset. There are different solutions to this problem. The most commonly used solution for the ID3 algorithm is pruning. Pruning doesn't completely fix this problem, but it does its best. Algorithms like ID3 always have some margin of error."
   ]
  },
  {
   "cell_type": "code",
   "execution_count": 983,
   "metadata": {},
   "outputs": [
    {
     "name": "stdout",
     "output_type": "stream",
     "text": [
      "[1 'Male' 'No' 'No' 'No' 'No' 'No' 'No' 'No' 'No' 'No' 'No' 'No' 'No' 'No'\n",
      " 'No' 'Negative']  but it returns  Positive\n",
      "[3 'Male' 'No' 'No' 'No' 'Yes' 'No' 'No' 'No' 'Yes' 'No' 'Yes' 'No' 'No'\n",
      " 'Yes' 'No' 'Negative']  but it returns  Positive\n",
      "[2 'Male' 'No' 'No' 'Yes' 'Yes' 'No' 'Yes' 'No' 'No' 'No' 'No' 'No' 'No'\n",
      " 'No' 'No' 'Negative']  but it returns  Positive\n",
      "[4 'Male' 'Yes' 'No' 'Yes' 'Yes' 'Yes' 'Yes' 'No' 'No' 'Yes' 'Yes' 'Yes'\n",
      " 'Yes' 'Yes' 'No' 'Positive']  but it returns  Negative\n",
      "[4 'Male' 'Yes' 'No' 'No' 'Yes' 'No' 'Yes' 'Yes' 'Yes' 'Yes' 'No' 'Yes'\n",
      " 'Yes' 'Yes' 'Yes' 'Positive']  but it returns  Negative\n",
      "[3 'Female' 'No' 'No' 'No' 'Yes' 'No' 'No' 'Yes' 'Yes' 'No' 'Yes' 'No'\n",
      " 'Yes' 'Yes' 'Yes' 'Negative']  but it returns  Positive\n",
      "[3 'Male' 'Yes' 'Yes' 'Yes' 'Yes' 'Yes' 'Yes' 'Yes' 'Yes' 'No' 'Yes' 'No'\n",
      " 'Yes' 'Yes' 'No' 'Positive']  but it returns  Negative\n",
      "[4 'Male' 'Yes' 'No' 'No' 'No' 'Yes' 'No' 'Yes' 'Yes' 'No' 'Yes' 'Yes'\n",
      " 'Yes' 'Yes' 'No' 'Negative']  but it returns  Positive\n",
      "[3 'Male' 'Yes' 'No' 'Yes' 'Yes' 'No' 'Yes' 'No' 'Yes' 'Yes' 'No' 'No'\n",
      " 'No' 'Yes' 'No' 'Positive']  but it returns  Negative\n",
      "[4 'Male' 'Yes' 'Yes' 'Yes' 'Yes' 'Yes' 'No' 'Yes' 'No' 'No' 'No' 'No'\n",
      " 'Yes' 'Yes' 'Yes' 'Positive']  but it returns  Negative\n",
      "[3 'Male' 'No' 'No' 'No' 'No' 'No' 'No' 'No' 'Yes' 'No' 'Yes' 'No' 'No'\n",
      " 'Yes' 'No' 'Negative']  but it returns  Positive\n",
      "[2 'Male' 'No' 'No' 'Yes' 'No' 'No' 'Yes' 'No' 'No' 'No' 'Yes' 'No' 'No'\n",
      " 'Yes' 'No' 'Negative']  but it returns  Positive\n",
      "[2 'Female' 'Yes' 'Yes' 'Yes' 'Yes' 'Yes' 'No' 'No' 'Yes' 'Yes' 'Yes'\n",
      " 'Yes' 'No' 'No' 'No' 'Positive']  but it returns  Negative\n",
      "[2 'Female' 'Yes' 'Yes' 'Yes' 'Yes' 'Yes' 'No' 'Yes' 'Yes' 'No' 'Yes'\n",
      " 'Yes' 'Yes' 'No' 'No' 'Positive']  but it returns  Negative\n",
      "[2 'Male' 'No' 'Yes' 'Yes' 'Yes' 'No' 'No' 'Yes' 'Yes' 'No' 'No' 'Yes'\n",
      " 'Yes' 'No' 'No' 'Negative']  but it returns  Positive\n",
      "[3 'Male' 'No' 'No' 'Yes' 'Yes' 'Yes' 'No' 'Yes' 'Yes' 'No' 'Yes' 'No'\n",
      " 'Yes' 'Yes' 'No' 'Negative']  but it returns  Positive\n",
      "[2 'Male' 'No' 'No' 'No' 'No' 'No' 'No' 'No' 'No' 'No' 'No' 'No' 'No'\n",
      " 'Yes' 'No' 'Negative']  but it returns  Positive\n",
      "[3 'Male' 'Yes' 'Yes' 'Yes' 'Yes' 'Yes' 'Yes' 'Yes' 'Yes' 'No' 'Yes' 'No'\n",
      " 'Yes' 'Yes' 'No' 'Positive']  but it returns  Negative\n",
      "[2 'Female' 'Yes' 'Yes' 'Yes' 'Yes' 'Yes' 'No' 'Yes' 'Yes' 'Yes' 'Yes'\n",
      " 'Yes' 'Yes' 'No' 'No' 'Positive']  but it returns  Negative\n",
      "[2 'Female' 'Yes' 'Yes' 'No' 'Yes' 'No' 'No' 'No' 'No' 'Yes' 'No' 'No'\n",
      " 'Yes' 'No' 'No' 'Positive']  but it returns  Negative\n",
      "[3 'Female' 'No' 'Yes' 'Yes' 'No' 'Yes' 'Yes' 'Yes' 'Yes' 'Yes' 'Yes' 'No'\n",
      " 'Yes' 'No' 'No' 'Positive']  but it returns  Negative\n",
      "[2 'Male' 'No' 'No' 'No' 'No' 'No' 'No' 'No' 'No' 'No' 'No' 'No' 'No'\n",
      " 'Yes' 'No' 'Negative']  but it returns  Positive\n",
      "[1 'Female' 'No' 'No' 'No' 'No' 'No' 'No' 'Yes' 'No' 'No' 'No' 'Yes' 'Yes'\n",
      " 'No' 'No' 'Positive']  but it returns  Negative\n",
      "[3 'Male' 'No' 'No' 'No' 'No' 'No' 'No' 'No' 'No' 'Yes' 'No' 'Yes' 'No'\n",
      " 'No' 'Yes' 'Negative']  but it returns  Positive\n",
      "[3 'Male' 'Yes' 'Yes' 'Yes' 'Yes' 'No' 'No' 'Yes' 'Yes' 'Yes' 'Yes' 'Yes'\n",
      " 'Yes' 'No' 'No' 'Positive']  but it returns  Negative\n",
      "[1 'Male' 'No' 'No' 'No' 'No' 'No' 'No' 'No' 'No' 'No' 'No' 'No' 'No' 'No'\n",
      " 'No' 'Negative']  but it returns  Positive\n",
      "[3 'Male' 'Yes' 'Yes' 'Yes' 'Yes' 'Yes' 'No' 'Yes' 'No' 'No' 'No' 'Yes'\n",
      " 'No' 'No' 'No' 'Positive']  but it returns  Negative\n",
      "[3 'Female' 'No' 'No' 'Yes' 'Yes' 'Yes' 'No' 'No' 'No' 'No' 'No' 'No'\n",
      " 'Yes' 'No' 'No' 'Positive']  but it returns  Negative\n",
      "[3 'Male' 'No' 'No' 'No' 'No' 'No' 'No' 'No' 'Yes' 'No' 'No' 'No' 'No'\n",
      " 'Yes' 'No' 'Negative']  but it returns  Positive\n",
      "[2 'Female' 'Yes' 'Yes' 'Yes' 'Yes' 'Yes' 'No' 'No' 'Yes' 'No' 'Yes' 'Yes'\n",
      " 'Yes' 'No' 'No' 'Positive']  but it returns  Negative\n",
      "[1 'Male' 'No' 'No' 'No' 'No' 'No' 'No' 'No' 'No' 'No' 'No' 'No' 'No' 'No'\n",
      " 'No' 'Negative']  but it returns  Positive\n",
      "[3 'Male' 'No' 'No' 'No' 'Yes' 'Yes' 'No' 'No' 'Yes' 'No' 'Yes' 'No' 'No'\n",
      " 'Yes' 'No' 'Negative']  but it returns  Positive\n",
      "[2 'Male' 'No' 'Yes' 'No' 'Yes' 'No' 'No' 'No' 'Yes' 'No' 'Yes' 'No' 'Yes'\n",
      " 'Yes' 'Yes' 'Positive']  but it returns  Negative\n",
      "[1 'Male' 'No' 'No' 'No' 'No' 'No' 'No' 'No' 'No' 'No' 'No' 'No' 'No' 'No'\n",
      " 'No' 'Negative']  but it returns  Positive\n",
      "[4 'Male' 'Yes' 'No' 'No' 'No' 'No' 'No' 'Yes' 'Yes' 'Yes' 'Yes' 'No'\n",
      " 'Yes' 'Yes' 'Yes' 'Negative']  but it returns  Positive\n",
      "[4 'Male' 'Yes' 'Yes' 'No' 'Yes' 'Yes' 'Yes' 'No' 'Yes' 'Yes' 'No' 'Yes'\n",
      " 'Yes' 'No' 'Yes' 'Positive']  but it returns  Negative\n",
      "[3 'Male' 'Yes' 'Yes' 'No' 'Yes' 'No' 'Yes' 'Yes' 'Yes' 'No' 'No' 'No'\n",
      " 'No' 'No' 'No' 'Positive']  but it returns  Negative\n",
      "[2 'Male' 'No' 'No' 'No' 'No' 'No' 'No' 'No' 'No' 'Yes' 'No' 'No' 'No'\n",
      " 'No' 'No' 'Negative']  but it returns  Positive\n",
      "[2 'Male' 'No' 'No' 'No' 'No' 'No' 'No' 'No' 'Yes' 'No' 'No' 'No' 'No'\n",
      " 'No' 'No' 'Negative']  but it returns  Positive\n",
      "[1 'Male' 'No' 'No' 'No' 'No' 'No' 'No' 'No' 'No' 'No' 'No' 'No' 'No' 'No'\n",
      " 'No' 'Negative']  but it returns  Positive\n",
      "[2 'Male' 'No' 'No' 'Yes' 'No' 'No' 'No' 'No' 'No' 'No' 'No' 'No' 'No'\n",
      " 'No' 'Yes' 'Negative']  but it returns  Positive\n",
      "[3 'Female' 'Yes' 'Yes' 'Yes' 'Yes' 'Yes' 'No' 'Yes' 'No' 'No' 'No' 'Yes'\n",
      " 'No' 'No' 'Yes' 'Positive']  but it returns  Negative\n",
      "[3 'Male' 'No' 'No' 'No' 'Yes' 'Yes' 'No' 'Yes' 'Yes' 'No' 'Yes' 'Yes'\n",
      " 'Yes' 'Yes' 'No' 'Negative']  but it returns  Positive\n",
      "[1 'Male' 'Yes' 'No' 'Yes' 'No' 'Yes' 'No' 'No' 'No' 'No' 'No' 'No' 'No'\n",
      " 'No' 'No' 'Positive']  but it returns  Negative\n",
      "[3 'Female' 'Yes' 'Yes' 'Yes' 'Yes' 'Yes' 'No' 'No' 'Yes' 'No' 'Yes' 'Yes'\n",
      " 'Yes' 'No' 'No' 'Positive']  but it returns  Negative\n",
      "[4 'Male' 'Yes' 'Yes' 'No' 'Yes' 'Yes' 'No' 'Yes' 'No' 'No' 'No' 'Yes'\n",
      " 'Yes' 'No' 'No' 'Positive']  but it returns  Negative\n",
      "[3 'Female' 'Yes' 'Yes' 'Yes' 'Yes' 'No' 'No' 'Yes' 'No' 'No' 'No' 'Yes'\n",
      " 'No' 'No' 'Yes' 'Positive']  but it returns  Negative\n",
      "[2 'Female' 'Yes' 'Yes' 'Yes' 'Yes' 'No' 'No' 'Yes' 'No' 'No' 'Yes' 'Yes'\n",
      " 'Yes' 'No' 'No' 'Positive']  but it returns  Negative\n",
      "[3 'Female' 'No' 'No' 'No' 'Yes' 'No' 'No' 'Yes' 'Yes' 'No' 'Yes' 'No'\n",
      " 'No' 'Yes' 'No' 'Negative']  but it returns  Positive\n",
      "[2 'Female' 'Yes' 'Yes' 'Yes' 'Yes' 'No' 'No' 'Yes' 'No' 'No' 'Yes' 'Yes'\n",
      " 'Yes' 'No' 'No' 'Positive']  but it returns  Negative\n",
      "[3 'Male' 'Yes' 'Yes' 'Yes' 'Yes' 'Yes' 'No' 'Yes' 'Yes' 'Yes' 'Yes' 'Yes'\n",
      " 'Yes' 'Yes' 'Yes' 'Positive']  but it returns  Negative\n",
      "[2 'Female' 'Yes' 'Yes' 'Yes' 'Yes' 'Yes' 'No' 'No' 'Yes' 'Yes' 'No' 'Yes'\n",
      " 'Yes' 'No' 'No' 'Positive']  but it returns  Negative\n",
      "[3 'Female' 'Yes' 'Yes' 'Yes' 'Yes' 'Yes' 'No' 'Yes' 'Yes' 'Yes' 'Yes'\n",
      " 'Yes' 'Yes' 'No' 'No' 'Positive']  but it returns  Negative\n",
      "[2 'Male' 'No' 'No' 'No' 'No' 'Yes' 'Yes' 'No' 'No' 'No' 'No' 'No' 'No'\n",
      " 'No' 'No' 'Negative']  but it returns  Positive\n"
     ]
    }
   ],
   "source": [
    "#disclassifieds = [test_data[:, -1] != predicts]\n",
    "\n",
    "for i in range(len(predicts)):\n",
    "    if test_data[i, -1] != predicts[i]:\n",
    "        print(test_data[i,:] , \" but it returns \" , predicts[i])\n",
    "        "
   ]
  },
  {
   "cell_type": "markdown",
   "metadata": {},
   "source": [
    "#   <font color=blue>Part 2: Pruning Decision Tree\n",
    "</font>"
   ]
  },
  {
   "cell_type": "markdown",
   "metadata": {},
   "source": [
    "#### age_splits(data, column_index, split_number):\n",
    "Function that performs the discretization we need for the age variable. It takes dataset, column number and discretization number as parameters"
   ]
  },
  {
   "cell_type": "code",
   "execution_count": 956,
   "metadata": {},
   "outputs": [],
   "source": [
    "def ageSplitter(data,ageClass , splitNumber):\n",
    "    gap = (data[ageClass]).max() - (data[ageClass]).min()\n",
    "    average = gap/splitNumber\n",
    "    ranges = data[ageClass].min()\n",
    "    ageRanges = []\n",
    "    while ranges<=data[ageClass].max():\n",
    "        ageRanges += [int(ranges)]\n",
    "        ranges+= average\n",
    "    #print(ageRanges)\n",
    "    for i in range(len(ageRanges)-1):\n",
    "        for j in range(len(data[ageClass])):\n",
    "            if data[ageClass][j] <= ageRanges[i + 1] and data[ageClass][j] >= ageRanges[i]:\n",
    "                #print(data[ageClass][j], \"is belong to Randge {}\".format(i+1))\n",
    "                data.at[j, ageClass] = i+1\n",
    "    return data"
   ]
  },
  {
   "cell_type": "code",
   "execution_count": 957,
   "metadata": {},
   "outputs": [],
   "source": [
    "# upload file\n",
    "df = pd.read_csv(\"diabetes_data_upload.csv\")"
   ]
  },
  {
   "cell_type": "code",
   "execution_count": 958,
   "metadata": {},
   "outputs": [],
   "source": [
    "# rename the last column name to label\n",
    "df = df.rename(columns={\"class\": \"label\"})"
   ]
  },
  {
   "cell_type": "code",
   "execution_count": 959,
   "metadata": {},
   "outputs": [],
   "source": [
    "df = ageSplitter(df,\"Age\",5)"
   ]
  },
  {
   "cell_type": "code",
   "execution_count": 960,
   "metadata": {},
   "outputs": [],
   "source": [
    "global COLUMN_HEADERS\n",
    "COLUMN_HEADERS = list(df.columns.values.tolist())"
   ]
  },
  {
   "cell_type": "code",
   "execution_count": 961,
   "metadata": {},
   "outputs": [
    {
     "data": {
      "text/plain": [
       "['Age',\n",
       " 'Gender',\n",
       " 'Polyuria',\n",
       " 'Polydipsia',\n",
       " 'sudden weight loss',\n",
       " 'weakness',\n",
       " 'Polyphagia',\n",
       " 'Genital thrush',\n",
       " 'visual blurring',\n",
       " 'Itching',\n",
       " 'Irritability',\n",
       " 'delayed healing',\n",
       " 'partial paresis',\n",
       " 'muscle stiffness',\n",
       " 'Alopecia',\n",
       " 'Obesity',\n",
       " 'label']"
      ]
     },
     "execution_count": 961,
     "metadata": {},
     "output_type": "execute_result"
    }
   ],
   "source": [
    "COLUMN_HEADERS"
   ]
  },
  {
   "cell_type": "code",
   "execution_count": 962,
   "metadata": {},
   "outputs": [],
   "source": [
    "global COLUMN_IDS\n",
    "COLUMN_IDS = np.arange(len(COLUMN_HEADERS))"
   ]
  },
  {
   "cell_type": "code",
   "execution_count": 963,
   "metadata": {},
   "outputs": [
    {
     "data": {
      "text/plain": [
       "array([ 0,  1,  2,  3,  4,  5,  6,  7,  8,  9, 10, 11, 12, 13, 14, 15, 16])"
      ]
     },
     "execution_count": 963,
     "metadata": {},
     "output_type": "execute_result"
    }
   ],
   "source": [
    "COLUMN_IDS"
   ]
  },
  {
   "cell_type": "markdown",
   "metadata": {},
   "source": [
    "After shuffle df, we divided it into 3 separate datasets as train, validate and test."
   ]
  },
  {
   "cell_type": "code",
   "execution_count": 964,
   "metadata": {},
   "outputs": [],
   "source": [
    "train, validate, test = np.split(df.sample(frac=1), [int(.6 * len(df)), int(.8 * len(df))])"
   ]
  },
  {
   "cell_type": "code",
   "execution_count": 965,
   "metadata": {},
   "outputs": [],
   "source": [
    "# convert from dataframes to numpy\n",
    "df = df.to_numpy()\n",
    "train = train.to_numpy()\n",
    "test = test.to_numpy()\n",
    "validate = validate.to_numpy()"
   ]
  },
  {
   "cell_type": "markdown",
   "metadata": {},
   "source": [
    "#### check_purity(data) : \n",
    "Function that checks if the entire dataset is classified. If classification is finished, terminates branching continues if not. It returns False because **df** hasn't classified yet"
   ]
  },
  {
   "cell_type": "code",
   "execution_count": 966,
   "metadata": {},
   "outputs": [],
   "source": [
    "def check_purity(data):\n",
    "    label_column = data[:, -1]\n",
    "    unique_classes = np.unique(label_column)\n",
    "    if len(unique_classes) == 1:\n",
    "        return True;\n",
    "    return False"
   ]
  },
  {
   "cell_type": "markdown",
   "metadata": {},
   "source": [
    "#### classify_data(data) : \n",
    "Function that determines which label is more in the data set. **df** returns Positive in this function because there are more Positives in it"
   ]
  },
  {
   "cell_type": "code",
   "execution_count": 967,
   "metadata": {},
   "outputs": [],
   "source": [
    "def classify_data(data):\n",
    "    label_column = data[:, -1]\n",
    "    # unique labellar arasından en çok olanı döndürüyoruz, yani count ı max olanı\n",
    "    unique_classes, counts_unique_classes = np.unique(label_column, return_counts=True)\n",
    "    max_index = counts_unique_classes.argmax()\n",
    "    classification = unique_classes[max_index]\n",
    "    return classification"
   ]
  },
  {
   "cell_type": "markdown",
   "metadata": {},
   "source": [
    "#### get_potential_splits(data, attribute_ids):\n",
    "Function that returns the values of the rows, thus determining which branches the decision tree will have. It takes dataset and column Id that values needed to know as parameters."
   ]
  },
  {
   "cell_type": "code",
   "execution_count": 968,
   "metadata": {},
   "outputs": [],
   "source": [
    "def get_potential_splits(data, attribute_ids):\n",
    "    potential_splits = {}\n",
    "    for column_index in attribute_ids:  # excluding the last column which is the label\n",
    "        values = data[:, column_index]\n",
    "        unique_values = np.unique(values)\n",
    "        potential_splits[COLUMN_HEADERS[column_index]] = unique_values\n",
    "    return potential_splits"
   ]
  },
  {
   "cell_type": "markdown",
   "metadata": {},
   "source": [
    "#### calculate_entropy(data):\n",
    "Function that calculates the ENTROPHY required to calculate the GAIN value. In the calculation, the ENTROPHY value of the data set is high. This shows us that there is a polarized distribution"
   ]
  },
  {
   "cell_type": "code",
   "execution_count": 969,
   "metadata": {},
   "outputs": [],
   "source": [
    "def calculate_entropy(data):\n",
    "    label_column = data[:, -1]\n",
    "    _, counts = np.unique(label_column, return_counts=True)\n",
    "    probabilities = counts / counts.sum()  # counts = [200 320] 200-negatives, 320-positives\n",
    "    # print(probabilities)\n",
    "    entropy = sum(probabilities * -np.log2(probabilities))\n",
    "    return entropy"
   ]
  },
  {
   "cell_type": "markdown",
   "metadata": {},
   "source": [
    "#### calculate_gain(data, index):\n",
    "Function that returns the GAIN value, which allows us to decide on the next branch of the decision tree. It takes dataset and column index as parameter. In the calculation, we see the GAIN value of the **age** attribute."
   ]
  },
  {
   "cell_type": "code",
   "execution_count": 970,
   "metadata": {},
   "outputs": [],
   "source": [
    "# calculate entropy for determined column\n",
    "def calculate_gain(data, index):\n",
    "    values, counts = np.unique(data[:, index], return_counts=True)\n",
    "    total = sum(counts)\n",
    "    full_entropy = calculate_entropy(data)\n",
    "    for i in range(len(values)):\n",
    "        value_data = data[data[:, index] == values[i]]\n",
    "        value_entropy = calculate_entropy(value_data)\n",
    "        full_entropy -= (counts[i] / total) * value_entropy\n",
    "    return full_entropy"
   ]
  },
  {
   "cell_type": "markdown",
   "metadata": {},
   "source": [
    "#### calculate_best_gain(data, attribute_ids):\n",
    "Function that returns the best GAIN value in a given dataset and attribute that has this value. It takes dataset and ID list of attributes as parameter. In this example we see the GAIN value = 0.3622... and index 2 = Polyuria"
   ]
  },
  {
   "cell_type": "code",
   "execution_count": 971,
   "metadata": {},
   "outputs": [],
   "source": [
    "def calculate_best_gain(data, attribute_ids):\n",
    "    gains = {}\n",
    "    for id in attribute_ids:\n",
    "        gain = calculate_gain(data, id)\n",
    "        gains[id] = gain\n",
    "\n",
    "    best_gain_key = max(gains, key=gains.get)\n",
    "    return gains[best_gain_key], best_gain_key"
   ]
  },
  {
   "cell_type": "markdown",
   "metadata": {},
   "source": [
    "### class Node:\n",
    "The class in which we create the decision tree <br>\n",
    "**children** : list of sub branch <br>\n",
    "**vals** : the value list that attribute has (for age = 1,2,3,4,5 for polyuria = yes, no ... ) <br>\n",
    "**rule** : rule of desicion tree <br>\n",
    "**max_gain** : GAIN of that branch <br>\n",
    "**attribute_name** : Name of attribute (Age,Gender,Polyuria,Polydipsia,sudden weight loss\n",
    "...) <br>\n",
    "**attribute_id** : Index of the attribute (for age = 0 , gender = 1, Polyuria = 2 ...) <br>\n",
    "**chooseLeaf** : In the prune algorithm, twig is changed to leaf and, twig value is set the majority of ”Positive” or ”Negative” as leaf value. For this, we keep which node is in majority, and when twig in leaf is required, the twig vals value is replaced with the value of chooseLeaf.<br>\n",
    "**ex_node(node)** : For the prune algorithm, we added a new function to the Node class. With the **ex_node function**, we were able to keep the parent node of the current node. This way, if current_accuracy is smaller than last_accuracy, we were able to revert the tree"
   ]
  },
  {
   "cell_type": "code",
   "execution_count": 972,
   "metadata": {},
   "outputs": [],
   "source": [
    "class Node:\n",
    "    def __init__(self, attribute_id, attribute_name, vals, rule):\n",
    "        self.children = []\n",
    "        self.vals = vals\n",
    "        self.rule = rule\n",
    "        self.max_gain = None\n",
    "        self.attribute_name = attribute_name\n",
    "        self.attribute_id = attribute_id\n",
    "        self.chooseLeaf = None\n",
    "    def ex_node(self, node):\n",
    "        new_node = Node(node.attribute_id,node.attribute_name,node.vals,node.rule)\n",
    "        self.children = node.children\n",
    "        self.vals = node.vals\n",
    "        self.rule = node.rule\n",
    "        self.max_gain = node.max_gain\n",
    "        self.attribute_name = node.attribute_name\n",
    "        self.attribute_id = node.attribute_id\n",
    "        self.chooseLeaf = node.chooseLeaf\n",
    "        return new_node"
   ]
  },
  {
   "cell_type": "code",
   "execution_count": 973,
   "metadata": {},
   "outputs": [],
   "source": [
    "global POTENTIAL_SPLITS\n",
    "POTENTIAL_SPLITS = get_potential_splits(df, COLUMN_IDS)"
   ]
  },
  {
   "cell_type": "code",
   "execution_count": 974,
   "metadata": {},
   "outputs": [
    {
     "data": {
      "text/plain": [
       "{'Age': array([1, 2, 3, 4, 5], dtype=object),\n",
       " 'Gender': array(['Female', 'Male'], dtype=object),\n",
       " 'Polyuria': array(['No', 'Yes'], dtype=object),\n",
       " 'Polydipsia': array(['No', 'Yes'], dtype=object),\n",
       " 'sudden weight loss': array(['No', 'Yes'], dtype=object),\n",
       " 'weakness': array(['No', 'Yes'], dtype=object),\n",
       " 'Polyphagia': array(['No', 'Yes'], dtype=object),\n",
       " 'Genital thrush': array(['No', 'Yes'], dtype=object),\n",
       " 'visual blurring': array(['No', 'Yes'], dtype=object),\n",
       " 'Itching': array(['No', 'Yes'], dtype=object),\n",
       " 'Irritability': array(['No', 'Yes'], dtype=object),\n",
       " 'delayed healing': array(['No', 'Yes'], dtype=object),\n",
       " 'partial paresis': array(['No', 'Yes'], dtype=object),\n",
       " 'muscle stiffness': array(['No', 'Yes'], dtype=object),\n",
       " 'Alopecia': array(['No', 'Yes'], dtype=object),\n",
       " 'Obesity': array(['No', 'Yes'], dtype=object),\n",
       " 'label': array(['Negative', 'Positive'], dtype=object)}"
      ]
     },
     "execution_count": 974,
     "metadata": {},
     "output_type": "execute_result"
    }
   ],
   "source": [
    "POTENTIAL_SPLITS"
   ]
  },
  {
   "cell_type": "markdown",
   "metadata": {},
   "source": [
    "Unlike the previous decision tree algorithm, a node_list is used to hold all the nodes we have, and before each return, this child_node is added to the node_list. This node_list will then be used to identify nodes with twigs."
   ]
  },
  {
   "cell_type": "code",
   "execution_count": 975,
   "metadata": {},
   "outputs": [],
   "source": [
    "def decision_tree_algorithm(data, attribute_ids , rule , node_list):\n",
    "\n",
    "    if check_purity(data):\n",
    "        classification = classify_data(data)\n",
    "        new_rule = str(rule) + classification\n",
    "        print(new_rule)\n",
    "        return Node(-1, COLUMN_HEADERS[-1], classification , new_rule)\n",
    "\n",
    "    if len(attribute_ids[:-1]) == 0:\n",
    "        targets, counts = np.unique(data[:,-1], return_counts=True)\n",
    "        index = np.argmax(counts)\n",
    "        new_rule = str(rule) + \" -> \" + targets[index]\n",
    "        print(new_rule)\n",
    "        return Node(-1, COLUMN_HEADERS[-1], targets[index], new_rule)\n",
    "\n",
    "    best_attr_val, best_attr_index = calculate_best_gain(data, attribute_ids[:-1])\n",
    "    potential_values = POTENTIAL_SPLITS[COLUMN_HEADERS[best_attr_index]]\n",
    "\n",
    "    child_node = Node(best_attr_index, COLUMN_HEADERS[best_attr_index], potential_values , rule)\n",
    "    child_node.max_gain = best_attr_val\n",
    "    child_node.rule += COLUMN_HEADERS[best_attr_index]  + \" -> \"\n",
    "\n",
    "    for val in potential_values: #yes and no\n",
    "        val_data = data[data[:,best_attr_index] == val]\n",
    "\n",
    "        if val_data.shape[0] == 0:\n",
    "            targets, counts = np.unique(data[:, -1], return_counts=True)\n",
    "            index = np.argmax(counts)\n",
    "            new_rule = str(child_node.rule) + str(val) + \" -> \" + targets[index]\n",
    "            print(new_rule)\n",
    "            child_node.children.append(Node(-1, COLUMN_HEADERS[-1], targets[index],new_rule))\n",
    "        else:\n",
    "            attribute_ids_cpy = attribute_ids[attribute_ids != best_attr_index]\n",
    "            new_rule = str(child_node.rule) + str(val) + \" -> \"\n",
    "            child_node.children.append(decision_tree_algorithm(val_data, attribute_ids_cpy ,new_rule,node_list))\n",
    "    \n",
    "    #to find the majority of ”Positive” or ”Negative” as leaf value\n",
    "    targets, counts = np.unique(data[:, -1], return_counts=True)\n",
    "    index = np.argmax(counts)\n",
    "    chooseLeafValue = targets[index] \n",
    "    child_node.chooseLeaf = chooseLeafValue\n",
    "    \n",
    "    node_list.append(child_node)\n",
    "\n",
    "    return child_node"
   ]
  },
  {
   "cell_type": "code",
   "execution_count": 976,
   "metadata": {},
   "outputs": [],
   "source": [
    "def predict_row_recr(node, row):\n",
    "    if node.attribute_name == 'label':\n",
    "        return node.vals\n",
    "    else:\n",
    "        index = np.nonzero(node.vals == row[node.attribute_id])[0][0]\n",
    "        next_node = node.children[index]\n",
    "        return predict_row_recr(next_node, row)\n",
    "\n",
    "\n",
    "def predict(root, data):\n",
    "    predicts = []\n",
    "    for i in data:\n",
    "        x = predict_row_recr(root, i)\n",
    "        predicts.append(x)\n",
    "    return predicts"
   ]
  },
  {
   "cell_type": "markdown",
   "metadata": {},
   "source": [
    "#### Prune algorithm \n",
    "First, an empty node list is defined. In this way, a list of all nodes added to the tree is kept. Then the tree is run on the test dataset for the last accuracy value and the pre_pruning operation. Then, the algorithm described in the assignment is applied for the prune operation. <br>\n",
    "A twig list is defined and added to all twigs found in the node_list. Then the node with the lowest gain in the twig list is used for prune operation. First, the found node is copied with the ex_node function. That way, if we need to go back, we don't lose the parent node. Then the content of the twig is changed. The name attibute is set to \"label\", attribute_id is set to 16, the value of the vals is changed to the value of chooseLeaf, the children in it are deleted and the new rule is defined.\n",
    "To give an example for the rule,<br>\n",
    "Polydipsia -> No -> Polyuria -> No -> Gender -> Female -> Alopecia -> -> No -> Age -> <br>rule changed to<br> Polydipsia --> No -> Polyuria -> No -> Gender -> Female -> Alopecia -> No -> Positive. <br>\n",
    "The predict operation is done with the new tree. current_accuracy is calculated with validate and if current accuracy is not lower than last accuracy, last_accuracy is set to current_accuracy. For the post pruning tree, the tree is saved. If current accuracy is lower than last accuracy, twig node(min_node) will be restored. The loop is terminated. Then, using the post_pruning_tree algorithm, labels are determined for the test dataset and accuracy is calculated."
   ]
  },
  {
   "cell_type": "code",
   "execution_count": 982,
   "metadata": {},
   "outputs": [
    {
     "name": "stdout",
     "output_type": "stream",
     "text": [
      "Pre Pruning Tree Rules List:\n",
      "Polydipsia -> No -> Polyuria -> No -> Gender -> Female -> delayed healing -> No -> visual blurring -> No -> Age -> 1 -> Negative\n",
      "Polydipsia -> No -> Polyuria -> No -> Gender -> Female -> delayed healing -> No -> visual blurring -> No -> Age -> 2 -> Obesity -> No -> sudden weight loss -> No -> weakness -> No -> Polyphagia -> No -> Genital thrush -> No -> Itching -> No -> Irritability -> No -> partial paresis -> No -> muscle stiffness -> No -> Alopecia -> No ->  -> Negative\n",
      "Polydipsia -> No -> Polyuria -> No -> Gender -> Female -> delayed healing -> No -> visual blurring -> No -> Age -> 2 -> Obesity -> No -> sudden weight loss -> No -> weakness -> No -> Polyphagia -> No -> Genital thrush -> No -> Itching -> No -> Irritability -> No -> partial paresis -> No -> muscle stiffness -> No -> Alopecia -> Yes -> Negative\n",
      "Polydipsia -> No -> Polyuria -> No -> Gender -> Female -> delayed healing -> No -> visual blurring -> No -> Age -> 2 -> Obesity -> No -> sudden weight loss -> No -> weakness -> No -> Polyphagia -> No -> Genital thrush -> No -> Itching -> No -> Irritability -> No -> partial paresis -> No -> muscle stiffness -> Yes -> Negative\n",
      "Polydipsia -> No -> Polyuria -> No -> Gender -> Female -> delayed healing -> No -> visual blurring -> No -> Age -> 2 -> Obesity -> No -> sudden weight loss -> No -> weakness -> No -> Polyphagia -> No -> Genital thrush -> No -> Itching -> No -> Irritability -> No -> partial paresis -> Yes -> Negative\n",
      "Polydipsia -> No -> Polyuria -> No -> Gender -> Female -> delayed healing -> No -> visual blurring -> No -> Age -> 2 -> Obesity -> No -> sudden weight loss -> No -> weakness -> No -> Polyphagia -> No -> Genital thrush -> No -> Itching -> No -> Irritability -> Yes -> Negative\n",
      "Polydipsia -> No -> Polyuria -> No -> Gender -> Female -> delayed healing -> No -> visual blurring -> No -> Age -> 2 -> Obesity -> No -> sudden weight loss -> No -> weakness -> No -> Polyphagia -> No -> Genital thrush -> No -> Itching -> Yes -> Negative\n",
      "Polydipsia -> No -> Polyuria -> No -> Gender -> Female -> delayed healing -> No -> visual blurring -> No -> Age -> 2 -> Obesity -> No -> sudden weight loss -> No -> weakness -> No -> Polyphagia -> No -> Genital thrush -> Yes -> Negative\n",
      "Polydipsia -> No -> Polyuria -> No -> Gender -> Female -> delayed healing -> No -> visual blurring -> No -> Age -> 2 -> Obesity -> No -> sudden weight loss -> No -> weakness -> No -> Polyphagia -> Yes -> Negative\n",
      "Polydipsia -> No -> Polyuria -> No -> Gender -> Female -> delayed healing -> No -> visual blurring -> No -> Age -> 2 -> Obesity -> No -> sudden weight loss -> No -> weakness -> Yes -> Negative\n",
      "Polydipsia -> No -> Polyuria -> No -> Gender -> Female -> delayed healing -> No -> visual blurring -> No -> Age -> 2 -> Obesity -> No -> sudden weight loss -> Yes -> Negative\n",
      "Polydipsia -> No -> Polyuria -> No -> Gender -> Female -> delayed healing -> No -> visual blurring -> No -> Age -> 2 -> Obesity -> Yes -> Positive\n",
      "Polydipsia -> No -> Polyuria -> No -> Gender -> Female -> delayed healing -> No -> visual blurring -> No -> Age -> 3 -> Positive\n",
      "Polydipsia -> No -> Polyuria -> No -> Gender -> Female -> delayed healing -> No -> visual blurring -> No -> Age -> 4 -> Positive\n",
      "Polydipsia -> No -> Polyuria -> No -> Gender -> Female -> delayed healing -> No -> visual blurring -> No -> Age -> 5 -> Positive\n",
      "Polydipsia -> No -> Polyuria -> No -> Gender -> Female -> delayed healing -> No -> visual blurring -> Yes -> Positive\n",
      "Polydipsia -> No -> Polyuria -> No -> Gender -> Female -> delayed healing -> Yes -> sudden weight loss -> No -> Negative\n",
      "Polydipsia -> No -> Polyuria -> No -> Gender -> Female -> delayed healing -> Yes -> sudden weight loss -> Yes -> Positive\n",
      "Polydipsia -> No -> Polyuria -> No -> Gender -> Male -> Age -> 1 -> Negative\n",
      "Polydipsia -> No -> Polyuria -> No -> Gender -> Male -> Age -> 2 -> delayed healing -> No -> Negative\n",
      "Polydipsia -> No -> Polyuria -> No -> Gender -> Male -> Age -> 2 -> delayed healing -> Yes -> Itching -> No -> sudden weight loss -> No -> Positive\n",
      "Polydipsia -> No -> Polyuria -> No -> Gender -> Male -> Age -> 2 -> delayed healing -> Yes -> Itching -> No -> sudden weight loss -> Yes -> Negative\n",
      "Polydipsia -> No -> Polyuria -> No -> Gender -> Male -> Age -> 2 -> delayed healing -> Yes -> Itching -> Yes -> Negative\n",
      "Polydipsia -> No -> Polyuria -> No -> Gender -> Male -> Age -> 3 -> Negative\n",
      "Polydipsia -> No -> Polyuria -> No -> Gender -> Male -> Age -> 4 -> partial paresis -> No -> Negative\n",
      "Polydipsia -> No -> Polyuria -> No -> Gender -> Male -> Age -> 4 -> partial paresis -> Yes -> Positive\n",
      "Polydipsia -> No -> Polyuria -> No -> Gender -> Male -> Age -> 5 -> Negative\n",
      "Polydipsia -> No -> Polyuria -> Yes -> Itching -> No -> Positive\n",
      "Polydipsia -> No -> Polyuria -> Yes -> Itching -> Yes -> delayed healing -> No -> Positive\n",
      "Polydipsia -> No -> Polyuria -> Yes -> Itching -> Yes -> delayed healing -> Yes -> Obesity -> No -> weakness -> No -> Negative\n",
      "Polydipsia -> No -> Polyuria -> Yes -> Itching -> Yes -> delayed healing -> Yes -> Obesity -> No -> weakness -> Yes -> Positive\n",
      "Polydipsia -> No -> Polyuria -> Yes -> Itching -> Yes -> delayed healing -> Yes -> Obesity -> Yes -> Negative\n",
      "Polydipsia -> Yes -> Polyuria -> No -> Irritability -> No -> Gender -> Female -> Positive\n",
      "Polydipsia -> Yes -> Polyuria -> No -> Irritability -> No -> Gender -> Male -> muscle stiffness -> No -> visual blurring -> No -> Age -> 1 -> Positive\n",
      "Polydipsia -> Yes -> Polyuria -> No -> Irritability -> No -> Gender -> Male -> muscle stiffness -> No -> visual blurring -> No -> Age -> 2 -> Positive\n",
      "Polydipsia -> Yes -> Polyuria -> No -> Irritability -> No -> Gender -> Male -> muscle stiffness -> No -> visual blurring -> No -> Age -> 3 -> Negative\n",
      "Polydipsia -> Yes -> Polyuria -> No -> Irritability -> No -> Gender -> Male -> muscle stiffness -> No -> visual blurring -> No -> Age -> 4 -> Positive\n",
      "Polydipsia -> Yes -> Polyuria -> No -> Irritability -> No -> Gender -> Male -> muscle stiffness -> No -> visual blurring -> No -> Age -> 5 -> Positive\n",
      "Polydipsia -> Yes -> Polyuria -> No -> Irritability -> No -> Gender -> Male -> muscle stiffness -> No -> visual blurring -> Yes -> Positive\n",
      "Polydipsia -> Yes -> Polyuria -> No -> Irritability -> No -> Gender -> Male -> muscle stiffness -> Yes -> visual blurring -> No -> Positive\n",
      "Polydipsia -> Yes -> Polyuria -> No -> Irritability -> No -> Gender -> Male -> muscle stiffness -> Yes -> visual blurring -> Yes -> Negative\n",
      "Polydipsia -> Yes -> Polyuria -> No -> Irritability -> Yes -> Positive\n",
      "Polydipsia -> Yes -> Polyuria -> Yes -> Positive\n",
      "Pre pruning  0.9038461538461539\n",
      "-------------------------------AFTER PRUNING------------------------------------------------\n",
      "After pruning, this rule change from  Polydipsia -> No -> Polyuria -> No -> Gender -> Female -> delayed healing -> No -> visual blurring -> No -> Age -> 2 -> Obesity -> No -> sudden weight loss -> No -> weakness -> No -> Polyphagia -> No -> Genital thrush -> No -> Itching -> No -> Irritability -> No -> partial paresis -> No -> muscle stiffness -> No -> Alopecia ->  \n",
      " To \n",
      " Polydipsia -> No -> Polyuria -> No -> Gender -> Female -> delayed healing -> No -> visual blurring -> No -> Age -> 2 -> Obesity -> No -> sudden weight loss -> No -> weakness -> No -> Polyphagia -> No -> Genital thrush -> No -> Itching -> No -> Irritability -> No -> partial paresis -> No -> muscle stiffness -> No -> Negative -> \n",
      "\n",
      "After pruning, this rule change from  Polydipsia -> No -> Polyuria -> No -> Gender -> Female -> delayed healing -> No -> visual blurring -> No -> Age -> 2 -> Obesity -> No -> sudden weight loss -> No -> weakness -> No -> Polyphagia -> No -> Genital thrush -> No -> Itching -> No -> Irritability -> No -> partial paresis -> No -> muscle stiffness ->  \n",
      " To \n",
      " Polydipsia -> No -> Polyuria -> No -> Gender -> Female -> delayed healing -> No -> visual blurring -> No -> Age -> 2 -> Obesity -> No -> sudden weight loss -> No -> weakness -> No -> Polyphagia -> No -> Genital thrush -> No -> Itching -> No -> Irritability -> No -> partial paresis -> No -> Negative -> \n",
      "\n",
      "After pruning, this rule change from  Polydipsia -> No -> Polyuria -> No -> Gender -> Female -> delayed healing -> No -> visual blurring -> No -> Age -> 2 -> Obesity -> No -> sudden weight loss -> No -> weakness -> No -> Polyphagia -> No -> Genital thrush -> No -> Itching -> No -> Irritability -> No -> partial paresis ->  \n",
      " To \n",
      " Polydipsia -> No -> Polyuria -> No -> Gender -> Female -> delayed healing -> No -> visual blurring -> No -> Age -> 2 -> Obesity -> No -> sudden weight loss -> No -> weakness -> No -> Polyphagia -> No -> Genital thrush -> No -> Itching -> No -> Irritability -> No -> Negative -> \n",
      "\n",
      "After pruning, this rule change from  Polydipsia -> No -> Polyuria -> No -> Gender -> Female -> delayed healing -> No -> visual blurring -> No -> Age -> 2 -> Obesity -> No -> sudden weight loss -> No -> weakness -> No -> Polyphagia -> No -> Genital thrush -> No -> Itching -> No -> Irritability ->  \n",
      " To \n",
      " Polydipsia -> No -> Polyuria -> No -> Gender -> Female -> delayed healing -> No -> visual blurring -> No -> Age -> 2 -> Obesity -> No -> sudden weight loss -> No -> weakness -> No -> Polyphagia -> No -> Genital thrush -> No -> Itching -> No -> Negative -> \n",
      "\n",
      "After pruning, this rule change from  Polydipsia -> No -> Polyuria -> No -> Gender -> Female -> delayed healing -> No -> visual blurring -> No -> Age -> 2 -> Obesity -> No -> sudden weight loss -> No -> weakness -> No -> Polyphagia -> No -> Genital thrush -> No -> Itching ->  \n",
      " To \n",
      " Polydipsia -> No -> Polyuria -> No -> Gender -> Female -> delayed healing -> No -> visual blurring -> No -> Age -> 2 -> Obesity -> No -> sudden weight loss -> No -> weakness -> No -> Polyphagia -> No -> Genital thrush -> No -> Negative -> \n",
      "\n",
      "After pruning, this rule change from  Polydipsia -> No -> Polyuria -> No -> Gender -> Female -> delayed healing -> No -> visual blurring -> No -> Age -> 2 -> Obesity -> No -> sudden weight loss -> No -> weakness -> No -> Polyphagia -> No -> Genital thrush ->  \n",
      " To \n",
      " Polydipsia -> No -> Polyuria -> No -> Gender -> Female -> delayed healing -> No -> visual blurring -> No -> Age -> 2 -> Obesity -> No -> sudden weight loss -> No -> weakness -> No -> Polyphagia -> No -> Negative -> \n",
      "\n",
      "After pruning, this rule change from  Polydipsia -> No -> Polyuria -> No -> Gender -> Female -> delayed healing -> No -> visual blurring -> No -> Age -> 2 -> Obesity -> No -> sudden weight loss -> No -> weakness -> No -> Polyphagia ->  \n",
      " To \n",
      " Polydipsia -> No -> Polyuria -> No -> Gender -> Female -> delayed healing -> No -> visual blurring -> No -> Age -> 2 -> Obesity -> No -> sudden weight loss -> No -> weakness -> No -> Negative -> \n",
      "\n",
      "After pruning, this rule change from  Polydipsia -> No -> Polyuria -> No -> Gender -> Female -> delayed healing -> No -> visual blurring -> No -> Age -> 2 -> Obesity -> No -> sudden weight loss -> No -> weakness ->  \n",
      " To \n",
      " Polydipsia -> No -> Polyuria -> No -> Gender -> Female -> delayed healing -> No -> visual blurring -> No -> Age -> 2 -> Obesity -> No -> sudden weight loss -> No -> Negative -> \n",
      "\n",
      "After pruning, this rule change from  Polydipsia -> No -> Polyuria -> No -> Gender -> Female -> delayed healing -> No -> visual blurring -> No -> Age -> 2 -> Obesity -> No -> sudden weight loss ->  \n",
      " To \n",
      " Polydipsia -> No -> Polyuria -> No -> Gender -> Female -> delayed healing -> No -> visual blurring -> No -> Age -> 2 -> Obesity -> No -> Negative -> \n",
      "\n",
      "After pruning, this rule change from  Polydipsia -> No -> Polyuria -> No -> Gender -> Female -> delayed healing -> No -> visual blurring -> No -> Age -> 2 -> Obesity ->  \n",
      " To \n",
      " Polydipsia -> No -> Polyuria -> No -> Gender -> Female -> delayed healing -> No -> visual blurring -> No -> Age -> 2 -> Negative -> \n",
      "\n",
      "Post pruning  0.9423076923076923\n"
     ]
    }
   ],
   "source": [
    "node_list = []\n",
    "print(\"Pre Pruning Tree Rules List:\")\n",
    "tree = decision_tree_algorithm(train, COLUMN_IDS, \"\", node_list)\n",
    "predicts = predict(tree, validate)\n",
    "last_accuracy = accuracy_score(validate[:, -1], predicts)\n",
    "pre_pruning_tree = tree\n",
    "\n",
    "#pre pruning tree using\n",
    "predicts = predict(pre_pruning_tree, test)\n",
    "acc = accuracy_score(test[:, -1], predicts)\n",
    "print(\"Pre pruning \" , acc)\n",
    "print(\"-------------------------------AFTER PRUNING------------------------------------------------\")\n",
    "post_pruning_tree  = tree\n",
    "while True:\n",
    "    twig_list = []\n",
    "    for parent_node in node_list:\n",
    "        if len(parent_node.children) != 0:\n",
    "            twig = True\n",
    "            for child in parent_node.children:\n",
    "                if len(child.children) != 0:\n",
    "                    twig = False\n",
    "                    break\n",
    "            if twig:\n",
    "                twig_list.append(parent_node)\n",
    "\n",
    "    min_node = twig_list[0]\n",
    "    for node in twig_list:\n",
    "        if node.max_gain < min_node.max_gain:\n",
    "            min_node = node\n",
    "\n",
    "    ex_node = min_node.ex_node(min_node)\n",
    "    min_node.rule = min_node.rule.replace(min_node.attribute_name, min_node.chooseLeaf)\n",
    "    min_node.attribute_name = \"label\"\n",
    "    min_node.attribute_id= 16\n",
    "    min_node.vals = min_node.chooseLeaf\n",
    "    min_node.children = []\n",
    "\n",
    "\n",
    "    predicts = predict(tree, validate)\n",
    "    current_accuracy = 0\n",
    "    current_accuracy = accuracy_score(validate[:, -1], predicts)\n",
    "    \n",
    "    if(current_accuracy < last_accuracy):\n",
    "        min_node = ex_node.ex_node(ex_node)\n",
    "        break\n",
    "    last_accuracy = current_accuracy\n",
    "    post_pruning_tree = tree\n",
    "    print(\"After pruning, this rule change from \" , ex_node.rule, \"\\n To \\n\" , min_node.rule + \"\\n\")\n",
    "\n",
    "\n",
    "#post pruning tree using\n",
    "predicts = predict(post_pruning_tree, test)\n",
    "current_accuracy = accuracy_score(test[:, -1], predicts)\n",
    "print(\"Post pruning \" , current_accuracy)\n"
   ]
  },
  {
   "cell_type": "markdown",
   "metadata": {},
   "source": [
    "Pre_pruning accuracy : 0.9038461538461539 <br>\n",
    "Post pruning accuarcy : 0.9423076923076923"
   ]
  },
  {
   "cell_type": "markdown",
   "metadata": {},
   "source": [
    "In post pruning, full tree is generated and then the non-significant branches are removed. Calculating accuracy is performed at every step to check whether addition of the new branch leads to increase in accuracy. If not the branch is converted to leaf node. Pruning can not only significantly reduce the size but also improve the classification accuracy of unseen objects. <br>\n",
    "\n",
    "The output above lists the rules that change during pruning. The difference between the two models is that the low-gain twigs in the first model, consisting only of leaf nodes, are replaced with labels. As can be seen in this example, although sometimes better accuracy is obtained from the model, better accuracy is not always obtained. The foremost of our reasons for performing this operation is to prevent overfitting. For this, the model is constantly updated with the validation dataset and branches that may cause overfitting are trimmed. Finally, it is tested with the test dataset. Along with pruning, the dataset can also be enlarged for a better result. Better accuracy could be achieved with a larger and more diverse data set."
   ]
  }
 ],
 "metadata": {
  "colab": {
   "collapsed_sections": [],
   "name": "Untitled0.ipynb",
   "provenance": []
  },
  "kernelspec": {
   "display_name": "Python 3",
   "language": "python",
   "name": "python3"
  },
  "language_info": {
   "codemirror_mode": {
    "name": "ipython",
    "version": 3
   },
   "file_extension": ".py",
   "mimetype": "text/x-python",
   "name": "python",
   "nbconvert_exporter": "python",
   "pygments_lexer": "ipython3",
   "version": "3.8.8"
  }
 },
 "nbformat": 4,
 "nbformat_minor": 1
}
